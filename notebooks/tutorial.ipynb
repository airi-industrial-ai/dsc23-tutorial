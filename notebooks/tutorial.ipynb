{
 "cells": [
  {
   "cell_type": "markdown",
   "metadata": {},
   "source": [
    "# A tutorial on model validation using deep generation of stress data"
   ]
  },
  {
   "cell_type": "markdown",
   "metadata": {},
   "source": [
    "<img src=\"https://raw.githubusercontent.com/airi-industrial-ai/dsc23-tutorial/8e761b9a2851a923970afb548275aebffc480a55/images/airi_logo.png\" width=200 align='left'/>"
   ]
  },
  {
   "cell_type": "markdown",
   "metadata": {},
   "source": [
    "_Vitaliy Pozdnyakov, Junior Research Scientist | AIRI_"
   ]
  },
  {
   "cell_type": "markdown",
   "metadata": {},
   "source": [
    "Open the notebook by the following QR code:\n",
    "\n",
    "<img src=\"https://raw.githubusercontent.com/airi-industrial-ai/dsc23-tutorial/8e761b9a2851a923970afb548275aebffc480a55/images/qr_code.png\" width=200 align='left'/>"
   ]
  },
  {
   "cell_type": "markdown",
   "metadata": {},
   "source": [
    "## Our plan for today"
   ]
  },
  {
   "cell_type": "markdown",
   "metadata": {},
   "source": [
    "1. Theory: Dataset shifts\n",
    "2. Practice: Download and prepare a dataset for time series forecasting\n",
    "3. Practice: Train and test a LSTM-based forecasting model\n",
    "4. Theory: Worst-case risk\n",
    "5. Practice: Evaluate the stability of the LSTM-based model using the worst-case risk\n",
    "6. Theory: Time series generation\n",
    "7. Practice: Generate fake time series similar to the original dataset\n",
    "8. Practice: Evaluate the stablity of the LSTM-based model using the worst-case risk on fake data"
   ]
  },
  {
   "cell_type": "markdown",
   "metadata": {},
   "source": [
    "## Dataset shifts in the real setting\n",
    "\n",
    "Let's consider some predictive model, say a recommender system. In the ideal world we expect the following process: we train the model on historical data, then we run it on actual data and see the great results in terms of some metrics (MSE, Cross-entropy, etc)."
   ]
  },
  {
   "cell_type": "markdown",
   "metadata": {},
   "source": [
    "<img src=\"https://raw.githubusercontent.com/airi-industrial-ai/dsc23-tutorial/8e761b9a2851a923970afb548275aebffc480a55/images/ideal_setting.png\" width=800 align='left'/>"
   ]
  },
  {
   "cell_type": "markdown",
   "metadata": {},
   "source": [
    "**The main assumption**: train and test datasets are sampled from the same distributions or at least similar distributions. \n",
    "\n",
    "In reality, we often face some **challenges** in the real world setting:\n",
    "* data usually changes over time\n",
    "* shocks affect dramatically"
   ]
  },
  {
   "cell_type": "markdown",
   "metadata": {},
   "source": [
    "<img src=\"https://raw.githubusercontent.com/airi-industrial-ai/dsc23-tutorial/8e761b9a2851a923970afb548275aebffc480a55/images/challenges.png\" width=450 align=\"left\"/>"
   ]
  },
  {
   "cell_type": "markdown",
   "metadata": {},
   "source": [
    "### Obviously, models fail when data is changed, do not they?"
   ]
  },
  {
   "cell_type": "markdown",
   "metadata": {},
   "source": [
    "The problem of changed data is known as **dataset (distribution) shift**. We consider two types of distribution shifts: concept shifts and covariate shifts.\n",
    "\n",
    "**Concept shift** is the shift in the conditional distribution of target by given features while the distribution of features remains the same:\n",
    "\n",
    "$$P_{tr}(X) = P_{tst}(X)$$\n",
    "$$P_{tr}(y|X) \\neq P_{tst}(y|X)$$\n",
    "\n",
    "Example: 𝑋 is a message, 𝑦 is a spam marker. We test the model on a new type of spam.\n",
    "\n",
    "In the case of the concept shift we actually need a new model. The following techinques are usually used: retraining, fine-tuning, online learning.\n",
    "\n",
    "**Covariate shift** is the shift in the distribution of features while the conditional distribution of target by given features remains the same:\n",
    "\n",
    "$$P_{tr}(X) \\neq P_{tst}(X)$$\n",
    "$$P_{tr}(y|X) = P_{tst}(y|X)$$\n",
    "\n",
    "Example: 𝑋 is medical data, 𝑦 is a status of a disease. We test the model at another hospital.\n",
    "\n",
    "In the case of the covariate shift, we need to be sure that our model is robust to these shifts."
   ]
  },
  {
   "cell_type": "markdown",
   "metadata": {},
   "source": [
    "<img src=\"https://raw.githubusercontent.com/airi-industrial-ai/dsc23-tutorial/88453d7be9ef5bbb791f67df3697701639f5784c/images/shifts.png\" width=600 align='left'/>"
   ]
  },
  {
   "cell_type": "markdown",
   "metadata": {},
   "source": [
    "This phenomenon of dataset shift in time is widespread across various domains:"
   ]
  },
  {
   "cell_type": "markdown",
   "metadata": {},
   "source": [
    "<img src=\"https://raw.githubusercontent.com/airi-industrial-ai/dsc23-tutorial/8e761b9a2851a923970afb548275aebffc480a55/images/data_description.png\" width=800 align=\"left\"/>"
   ]
  },
  {
   "cell_type": "markdown",
   "metadata": {},
   "source": [
    "_Credits: Yao, Huaxiu, et al. \"Wild-time: A benchmark of in-the-wild distribution shift over time.\" Advances in Neural Information Processing Systems 35 (2022): 10309-10324._"
   ]
  },
  {
   "cell_type": "markdown",
   "metadata": {},
   "source": [
    "In this tutorial, we will learn how to evaluate the model robustness to covariate dataset shift and then will look at how the generative models can be used in the evaluation."
   ]
  },
  {
   "cell_type": "markdown",
   "metadata": {},
   "source": [
    "## Dataset for time series forecasting"
   ]
  },
  {
   "cell_type": "code",
   "execution_count": null,
   "metadata": {},
   "outputs": [],
   "source": [
    "!pip install git+https://github.com/airi-industrial-ai/dsc23-tutorial\n",
    "!pip install git+https://github.com/airi-industrial-ai/genrisk"
   ]
  },
  {
   "cell_type": "code",
   "execution_count": null,
   "metadata": {
    "id": "nNgp8SaHXs2y"
   },
   "outputs": [],
   "source": [
    "import pandas as pd\n",
    "import matplotlib.pyplot as plt\n",
    "from tqdm.auto import trange, tqdm\n",
    "import numpy as np\n",
    "import requests\n",
    "from scipy.stats import ks_2samp, norm\n",
    "from sklearn.preprocessing import StandardScaler\n",
    "from statsmodels.tsa.stattools import pacf, acf"
   ]
  },
  {
   "cell_type": "code",
   "execution_count": null,
   "metadata": {
    "id": "L6ONAT_rMv8d"
   },
   "outputs": [],
   "source": [
    "from genrisk.shift import ConditionalShift\n",
    "from genrisk.generation import TCNGAN, LSTMGAN"
   ]
  },
  {
   "cell_type": "code",
   "execution_count": null,
   "metadata": {},
   "outputs": [],
   "source": [
    "from dsctutorial.data import load_gas_supply\n",
    "from dsctutorial.utils import positional_encoding, load_from_checkpoint\n",
    "from dsctutorial.plot import hist2samp, pacf2samp\n",
    "from dsctutorial.forecast import LSTMForecaster"
   ]
  },
  {
   "cell_type": "code",
   "execution_count": null,
   "metadata": {},
   "outputs": [],
   "source": [
    "import warnings\n",
    "warnings.filterwarnings(\"ignore\")"
   ]
  },
  {
   "cell_type": "markdown",
   "metadata": {},
   "source": [
    "The dataset is represented by weekly U.S. product supplied of finished motor gasoline (in thousand barrels per day). The dataset is available on the page https://www.eia.gov/dnav/pet/hist/LeafHandler.ashx?n=PET&s=wgfupus2&f=W."
   ]
  },
  {
   "cell_type": "code",
   "execution_count": null,
   "metadata": {
    "colab": {
     "base_uri": "https://localhost:8080/",
     "height": 526
    },
    "id": "azykPx-TXnA1",
    "outputId": "45e93f16-2572-458a-f5dd-dc2289e4823d"
   },
   "outputs": [],
   "source": [
    "target = load_gas_supply()\n",
    "target"
   ]
  },
  {
   "cell_type": "code",
   "execution_count": null,
   "metadata": {
    "colab": {
     "base_uri": "https://localhost:8080/",
     "height": 291
    },
    "id": "k-TEFPGZcZJL",
    "outputId": "9ea92c93-fe58-41b0-a0ce-6f351d6a17b2"
   },
   "outputs": [],
   "source": [
    "split = target.index[int(len(target) * 0.7)]\n",
    "\n",
    "plt.figure(figsize=(10, 3))\n",
    "plt.vlines(x=split, ymin=target.min(), ymax=target.max(), color='tab:orange', label='train-test split')\n",
    "plt.plot(target)\n",
    "plt.legend()\n",
    "plt.show()"
   ]
  },
  {
   "cell_type": "markdown",
   "metadata": {},
   "source": [
    "Additionally, we consider some **covariates** which known in advance and help our model to predict the future. Here we will use the simple positional ecnoding of the week of year:\n",
    "$$\n",
    "\\text{pos. encoding}(i) = \\left(\\sin \\frac{i2\\pi}{52} , \\cos \\frac{i2\\pi}{52} \\right)\n",
    "$$\n",
    "where $i$ is the number of a week which is in the range from 0 to 52."
   ]
  },
  {
   "cell_type": "code",
   "execution_count": null,
   "metadata": {
    "colab": {
     "base_uri": "https://localhost:8080/",
     "height": 347
    },
    "id": "4pGBeOT1bWMi",
    "outputId": "1b33aa01-738d-4477-9deb-2a031053040f"
   },
   "outputs": [],
   "source": [
    "cov = positional_encoding(target.index, ['weekofyear'])\n",
    "plt.figure(figsize=(10, 3))\n",
    "plt.plot(cov)\n",
    "plt.show()"
   ]
  },
  {
   "cell_type": "markdown",
   "metadata": {},
   "source": [
    "Let us split our target and covariates into train and test samples."
   ]
  },
  {
   "cell_type": "code",
   "execution_count": null,
   "metadata": {
    "colab": {
     "base_uri": "https://localhost:8080/"
    },
    "id": "jhieU1T2YCDN",
    "outputId": "3af11648-c207-4b8d-c141-fc29c4138d44"
   },
   "outputs": [],
   "source": [
    "train_target, test_target = target[:split], target[split:]\n",
    "scaler = StandardScaler()\n",
    "train_target[:] = scaler.fit_transform(train_target)\n",
    "test_target[:] = scaler.transform(test_target)\n",
    "train_cov, test_cov = cov[:split], cov[split:]\n",
    "len(train_target), len(test_target)"
   ]
  },
  {
   "cell_type": "markdown",
   "metadata": {},
   "source": [
    "Let us consider the train and test target data distribution. It is the common practice in time series data to compare the distribution of the difference between subsequent datapoints:\n",
    "$$\\text{diff}_i = x_i - x_{i-1}$$"
   ]
  },
  {
   "cell_type": "code",
   "execution_count": null,
   "metadata": {
    "colab": {
     "base_uri": "https://localhost:8080/",
     "height": 452
    },
    "id": "mW5KMPMcyYFh",
    "outputId": "d499b1d7-168f-4292-cf56-6638b29906b0"
   },
   "outputs": [],
   "source": [
    "hist2samp(train_target, test_target, 'train', 'test', nbins=30)"
   ]
  },
  {
   "cell_type": "markdown",
   "metadata": {},
   "source": [
    "We can see that some slight dataset shift is introduced in the test sample."
   ]
  },
  {
   "cell_type": "markdown",
   "metadata": {},
   "source": [
    "## LSTM forecasting model"
   ]
  },
  {
   "cell_type": "markdown",
   "metadata": {},
   "source": [
    "<img src=\"https://raw.githubusercontent.com/airi-industrial-ai/dsc23-tutorial/8e761b9a2851a923970afb548275aebffc480a55/images/lstm.png\" width=600 align=\"left\"/>"
   ]
  },
  {
   "cell_type": "markdown",
   "metadata": {},
   "source": [
    "Let us train a simple LSTM model to predict the target time series."
   ]
  },
  {
   "cell_type": "code",
   "execution_count": null,
   "metadata": {
    "id": "wIol54S_MgW1"
   },
   "outputs": [],
   "source": [
    "\"\"\"\n",
    "lstm_model = LSTMForecaster(hidden_dim=64, window_size=100, lr=0.01, num_epochs=30, batch_size=32)\n",
    "lstm_model.fit(train_target, train_cov)\n",
    "\"\"\";"
   ]
  },
  {
   "cell_type": "markdown",
   "metadata": {},
   "source": [
    "Here we don't waste time for training a neural network, insted we download a pretrained model."
   ]
  },
  {
   "cell_type": "code",
   "execution_count": null,
   "metadata": {},
   "outputs": [],
   "source": [
    "url = 'https://github.com/airi-industrial-ai/dsc23-tutorial/raw/main/weights/lstm-epoch=14-step=450.ckpt'\n",
    "r = requests.get(url)\n",
    "open('lstm-epoch=14-step=450.ckpt', 'wb').write(r.content);"
   ]
  },
  {
   "cell_type": "code",
   "execution_count": null,
   "metadata": {
    "id": "SgiAuKQE7OxC",
    "scrolled": false
   },
   "outputs": [],
   "source": [
    "lstm_model = LSTMForecaster(hidden_dim=64, window_size=100, lr=0.01, num_epochs=15, batch_size=32)\n",
    "lstm_model.load_from_checkpoint(\n",
    "    'lstm-epoch=14-step=450.ckpt',\n",
    "    train_target,\n",
    "    train_cov,\n",
    ")"
   ]
  },
  {
   "cell_type": "markdown",
   "metadata": {},
   "source": [
    "Let us look how the model predict the future on test sample."
   ]
  },
  {
   "cell_type": "code",
   "execution_count": null,
   "metadata": {
    "colab": {
     "base_uri": "https://localhost:8080/",
     "height": 291
    },
    "id": "fr915g7bZYXF",
    "outputId": "c4532159-9865-4eb1-d686-77e35b3081c7"
   },
   "outputs": [],
   "source": [
    "pred = lstm_model.predict(len(test_target), train_target, train_cov, test_cov)\n",
    "\n",
    "plt.figure(figsize=(10, 3))\n",
    "plt.plot(test_target, label='test target')\n",
    "plt.plot(pred, label='forecast')\n",
    "plt.legend()\n",
    "plt.show()"
   ]
  },
  {
   "cell_type": "markdown",
   "metadata": {},
   "source": [
    "## Backtesting of forecasting models"
   ]
  },
  {
   "cell_type": "markdown",
   "metadata": {},
   "source": [
    "Making prediction for 9 years ahead forecasting is nonsense. Instead, the common practice in testing forecasting models is **backtesting**. Backtesting is the procedure which evaluates the model in the historical order using the sliding window."
   ]
  },
  {
   "cell_type": "markdown",
   "metadata": {},
   "source": [
    "<img src=\"https://raw.githubusercontent.com/airi-industrial-ai/dsc23-tutorial/8e761b9a2851a923970afb548275aebffc480a55/images/sliding_window.png\" width=800 align='left'/>"
   ]
  },
  {
   "cell_type": "markdown",
   "metadata": {},
   "source": [
    "We split each window into past range and future range with respect to input size and forecasting horizon. We will use the past target, past covariates and future covariates to forecast the future target."
   ]
  },
  {
   "cell_type": "code",
   "execution_count": null,
   "metadata": {
    "id": "fx0cuoFbfIIy"
   },
   "outputs": [],
   "source": [
    "def backtest(model, input_size, horizon, target, cov):\n",
    "    error = []\n",
    "    for i in trange(len(target)-input_size-horizon+1):\n",
    "        past_range = range(i, i+input_size)\n",
    "        future_range = range(i+input_size, i+input_size+horizon)\n",
    "        past_target = target.iloc[past_range]\n",
    "        past_cov = cov.iloc[past_range]\n",
    "        future_cov = cov.iloc[future_range]\n",
    "        future_target = target.iloc[future_range]\n",
    "        future_pred = model.predict(horizon, past_target, past_cov, future_cov)\n",
    "        error.append(((future_target.values[-1] - future_pred.values[-1])**2).mean())\n",
    "    return pd.Series(error, index=target.index[input_size-1:-horizon])"
   ]
  },
  {
   "cell_type": "markdown",
   "metadata": {},
   "source": [
    "We will use the followin forecasting problem:\n",
    "* input size is 10 weeks\n",
    "* forecasting horizon is 100 weeks"
   ]
  },
  {
   "cell_type": "code",
   "execution_count": null,
   "metadata": {
    "colab": {
     "base_uri": "https://localhost:8080/",
     "height": 81,
     "referenced_widgets": [
      "d9097239e4e34ac3b0403a829583031f",
      "7d66cd3761e74f1ab42bdf4ed385396b",
      "fc4060f642cc48e3983ef8e0e81f245e",
      "942879766601402fbd812e365752de7f",
      "b37a65535e1e4cd285aade5540d956f6",
      "f18fe7e518ce44079c9bc4ab9e03e588",
      "55479728449e400d90dd8e6fcddb97ec",
      "499e68f055b441adaa729960cd39634d",
      "518660cb88274d84bd51c7ddd57392df",
      "70df258810264524a8ce98843b4b119b",
      "bb68cecc64eb40c3a517729e23e0d5d0",
      "4c24a6139e134980822ee59bbdfc0d0e",
      "512c13babe85481f973da16b83ee39c2",
      "c2d208980ca5493c90a2bb0913e474e1",
      "cd5688180a8d497a81e07fa3174e2e37",
      "56902726decc4c59a6078881c0a923a6",
      "f8260020a824474fa3571b805b9c25cb",
      "0f5e580d267843e79a22abf84ab0cc5e",
      "eb9f0d9223824a30a4f7daac45ca478e",
      "c2bc811c991c46eaa43344a3d761d355",
      "e32c81dda14943a9b294927404978f79",
      "11349d25ce7943beb370782b21add144"
     ]
    },
    "id": "JBG0cdKqcgl1",
    "outputId": "d40b3224-5f52-4265-cb17-8ddffae1f8bf"
   },
   "outputs": [],
   "source": [
    "train_lstm_error = backtest(lstm_model, input_size=10, horizon=100, target=train_target, cov=train_cov)\n",
    "test_lstm_error = backtest(lstm_model, input_size=10, horizon=100, target=test_target, cov=test_cov)\n",
    "train_lstm_error.mean(), test_lstm_error.mean()"
   ]
  },
  {
   "cell_type": "markdown",
   "metadata": {},
   "source": [
    "## How to estimate the possible risks?"
   ]
  },
  {
   "cell_type": "markdown",
   "metadata": {},
   "source": [
    "**Idea: some variables can change, other are fixed.**\n",
    "\n",
    "* __Immutable variables__ keep their distribution unchanged while dataset shifts occur (e.g. demographic characteristics)\n",
    "* __Mutable variables__ can have changes (e.g. treatment plan)\n",
    "\n",
    "Notation:\n",
    "* $X = W \\cup Z$\n",
    "* $W$ — mutable variables \n",
    "* $Z$ — immutable variables \n",
    "\n",
    "Original data: $P_{tr}(X) = P(W|Z)P(Z)$\n",
    "\n",
    "Shifted data: $P_{tst}(X)=Q(W|Z)P(Z)$\n",
    "\n",
    "**Worst-case risk** is the method to esimate potential decrease of the quality due to dataset shift. The steps of estimation:\n",
    "1. Find the small fraction of the data which the model predicts the worst\n",
    "2. Make sure the distribution of immutable variables is (almost) the same\n",
    "3. Evaluate the model on this subsample\n",
    "\n",
    "**The smaller the fraction, the higher the risk and vice versa.** The size of the fraction is denotes as $(1-\\alpha)$.\n",
    "\n",
    "To do these steps we use two models:\n",
    "1. $\\mu$: __Expectation model__ takes both mutable and immutable variables and estimate the expected loss of the target model\n",
    "2. $\\eta$: __Quantile model__ takes immutable variables and estimate the $\\alpha$-quantile of the loss of the target model\n",
    "3. $x$ is in the worst subsample if $\\mu(w, z) > \\eta(z)$"
   ]
  },
  {
   "cell_type": "markdown",
   "metadata": {},
   "source": [
    "<img src=\"https://raw.githubusercontent.com/airi-industrial-ai/dsc23-tutorial/8e761b9a2851a923970afb548275aebffc480a55/images/wcr.png\" width=800 align='left'/>"
   ]
  },
  {
   "cell_type": "markdown",
   "metadata": {},
   "source": [
    "_Credits: Subbaswamy, Adarsh, Roy Adams, and Suchi Saria. \"Evaluating model\n",
    "    robustness and stability to dataset shift.\" International Conference on Artificial\n",
    "    Intelligence and Statistics. PMLR, 2021._"
   ]
  },
  {
   "cell_type": "markdown",
   "metadata": {},
   "source": [
    "Let us create a dataset which we use to define mutable and immutable variables"
   ]
  },
  {
   "cell_type": "code",
   "execution_count": null,
   "metadata": {
    "id": "l75jmHdswerj"
   },
   "outputs": [],
   "source": [
    "def input_seq_dataset(input_size, horizon, target, cov, lags):\n",
    "    input_seq = []\n",
    "    for i in trange(len(target)-input_size-horizon+1):\n",
    "        past_range = range(i, i+input_size)\n",
    "        future_range = range(i+input_size, i+input_size+horizon)\n",
    "        past_target = target.iloc[past_range]\n",
    "        past_cov = cov.iloc[past_range]\n",
    "        past_target_lags = []\n",
    "        for j in range(lags):\n",
    "            past_target_lags.append(past_target.iloc[-1, 0] - past_target.iloc[-2-j, 0])\n",
    "        input = np.concatenate([past_target_lags, past_cov.iloc[-1].values])\n",
    "        input_seq.append(input)\n",
    "    columns = [f'{target.columns[0]}_diff{i+1}' for i in range(lags)] + list(cov.columns)\n",
    "    input_seq = pd.DataFrame(input_seq, columns=columns, index=target.index[input_size-1:-horizon])\n",
    "    return input_seq"
   ]
  },
  {
   "cell_type": "code",
   "execution_count": null,
   "metadata": {
    "colab": {
     "base_uri": "https://localhost:8080/",
     "height": 487,
     "referenced_widgets": [
      "88e03201113a49ff932e8e58d83bc086",
      "b5f0732112b8408b8c71f225183be757",
      "de9a644b67dc42a6936e3a9a6a66a912",
      "836ecbef322b42808ccc5820aefdd5c5",
      "0edb4b75d54d485f9d1bac9132fdb754",
      "fccffd59805f4eb092eab76d7aa26e3f",
      "32eff2ca979840b5b4e96cb2949b2b01",
      "95269c35cfde4bbf85fd06a496495241",
      "263b1ca58a974360a3c476ed01ecfe06",
      "f8c8935a4b554b05b0c32ade0a727eeb",
      "00e588b83ba843c19270831d7c609993"
     ]
    },
    "id": "KZzMXwRUNy-o",
    "outputId": "7f44d30e-e4d1-4e1f-f8a5-b28a2ff4f18c"
   },
   "outputs": [],
   "source": [
    "test_input_seq = input_seq_dataset(\n",
    "    input_size=10, horizon=100, target=test_target, cov=test_cov, lags=5)\n",
    "test_input_seq"
   ]
  },
  {
   "cell_type": "markdown",
   "metadata": {},
   "source": [
    "Let the variables with diffs be mutable and weekofyear cos and sin be immutable variables. "
   ]
  },
  {
   "cell_type": "code",
   "execution_count": null,
   "metadata": {
    "colab": {
     "base_uri": "https://localhost:8080/"
    },
    "id": "jNMxCqvLL6Is",
    "outputId": "30200e4f-9974-4f51-9bb6-28767ebeb363"
   },
   "outputs": [],
   "source": [
    "mutable_columns = test_input_seq.columns[:-2].tolist()\n",
    "immutable_columns = test_input_seq.columns[-2:].tolist()\n",
    "mutable_columns, immutable_columns"
   ]
  },
  {
   "cell_type": "markdown",
   "metadata": {},
   "source": [
    "We estimate the worst-case risk on different levels of risk: from 0.1 to 0.9."
   ]
  },
  {
   "cell_type": "code",
   "execution_count": null,
   "metadata": {
    "colab": {
     "base_uri": "https://localhost:8080/",
     "height": 49,
     "referenced_widgets": [
      "81770da10ebd496bb1563ec8235d5fad",
      "9ce2d475b4a6426ea00e8102bef41d39",
      "0562ee7f31d1432688ec4b8eab6ba5a1",
      "ba373f213402493197c0d8752bef9bba",
      "e4c1dcb26f76474cb19cd1f07b1d1aae",
      "7ba2e09809d74920a34f2d686990c67d",
      "a9bfd098cb884ff6ba14359faf1c2c43",
      "dd9c948d944945a4984f5cad0eea3e13",
      "e75034c6875d4f3fae51b38cbffc4616",
      "4ba48bc459b14031ab9e49e653cdcef5",
      "e155075205214f0eb4cf2d428432eccc"
     ]
    },
    "id": "91kkz00TLz-J",
    "outputId": "bd86fd35-4b04-4a87-fef3-a7d34ec5780a"
   },
   "outputs": [],
   "source": [
    "alphaspace = np.linspace(0.1, 0.9, 9)\n",
    "test_lstm_risk = []\n",
    "for alpha in tqdm(alphaspace):\n",
    "    shift_model = ConditionalShift(mutable_columns, immutable_columns, alpha=alpha)\n",
    "    shift_model.fit(test_input_seq, test_lstm_error)\n",
    "    test_lstm_risk.append((shift_model.risk, shift_model.lb_risk, shift_model.ub_risk))\n",
    "test_lstm_risk = np.array(test_lstm_risk)"
   ]
  },
  {
   "cell_type": "markdown",
   "metadata": {},
   "source": [
    "We plot risk values and 95% confidence interval."
   ]
  },
  {
   "cell_type": "code",
   "execution_count": null,
   "metadata": {
    "colab": {
     "base_uri": "https://localhost:8080/",
     "height": 430
    },
    "id": "asW7urHGRCqJ",
    "outputId": "c85edf63-b0c4-47ea-b496-fcb2733e96b1"
   },
   "outputs": [],
   "source": [
    "plt.plot(alphaspace, test_lstm_risk[:, 0], c='tab:green')\n",
    "plt.fill_between(alphaspace, test_lstm_risk[:, 1], test_lstm_risk[:, 2], alpha=0.2, color='tab:green')\n",
    "plt.hlines(test_lstm_error.mean(), alphaspace[0], alphaspace[-1], color='tab:blue', label='mean error')\n",
    "plt.legend()\n",
    "plt.title('Worst-case risk evaluation')\n",
    "plt.xlabel('alpha, risk level')\n",
    "plt.ylabel('MSE')\n",
    "plt.show()"
   ]
  },
  {
   "cell_type": "markdown",
   "metadata": {},
   "source": [
    "The model stores the mask for the worst subsample."
   ]
  },
  {
   "cell_type": "code",
   "execution_count": null,
   "metadata": {},
   "outputs": [],
   "source": [
    "shift_model.mask[:100]"
   ]
  },
  {
   "cell_type": "markdown",
   "metadata": {},
   "source": [
    "Let us plot some example from the worst subsample (stress data)."
   ]
  },
  {
   "cell_type": "code",
   "execution_count": null,
   "metadata": {},
   "outputs": [],
   "source": [
    "risk_date = test_input_seq[shift_model.mask].index[0]\n",
    "risk_idx = np.where(test_target.index == risk_date)[0][0]\n",
    "\n",
    "plt.figure(figsize=(10, 3))\n",
    "plt.plot(test_target.iloc[risk_idx-10:risk_idx+100])\n",
    "plt.show()"
   ]
  },
  {
   "cell_type": "markdown",
   "metadata": {},
   "source": [
    "**Limitations** of the worst-case risk:\n",
    "* High uncertainty in evaluation of risk with high $\\alpha$\n",
    "* Not all possible shifts are presented\n",
    "\n",
    "The suggestion: let us generate new data to model covariate shifts!"
   ]
  },
  {
   "cell_type": "markdown",
   "metadata": {},
   "source": [
    "## Time series generation using GAN"
   ]
  },
  {
   "cell_type": "markdown",
   "metadata": {},
   "source": [
    "The difference between generative and discriminative models:"
   ]
  },
  {
   "cell_type": "markdown",
   "metadata": {},
   "source": [
    "<img src='https://raw.githubusercontent.com/airi-industrial-ai/dsc23-tutorial/8e761b9a2851a923970afb548275aebffc480a55/images/gen_vs_disc.png' width=800 align='left'>"
   ]
  },
  {
   "cell_type": "markdown",
   "metadata": {},
   "source": [
    "*Credits: https://medium.com/@jordi299/about-generative-and-discriminative-models-d8958b67ad32*"
   ]
  },
  {
   "cell_type": "markdown",
   "metadata": {},
   "source": [
    "| Discriminative models | Generative models |\n",
    "|:---|:---|\n",
    "| Aims to predict the label by the given example| Aims to learn the full data distribution by the given subsample |\n",
    "| Learns the probability $y \\sim P(y|X)$ | Learns the probability $X,y \\sim P(X, y)$ or $X \\sim P(X)$ |\n",
    "| _Examples of tasks:_ | _Examples of tasks:_ |\n",
    "| 1. Is a cat on the photo? | 1. Create a photo of a cat that looks like the average of two given cat photos |\n",
    "| 2. How old is a person on the photo? | 2. Create a photo of an avocado armchair |\n",
    "| 3. What is the most likely number of tourists the next mounth? | 3. Write an essay on the topic of global warming |\n",
    "| _Examples of models:_ | _Examples of models:_ |\n",
    "| Decision Tree, Support Vector Machine (SVM), Convolutional Neural Network (CNN) | Autoregressive model (AR), Generative Adversarial Network (GAN), Variational Autoencoder (VAE), Generative Pretrained Transformer (GPT)|\n"
   ]
  },
  {
   "cell_type": "markdown",
   "metadata": {},
   "source": [
    "Deep generative models are based on deep neural networks.\n",
    "\n",
    "<img src='https://raw.githubusercontent.com/airi-industrial-ai/dsc23-tutorial/8e761b9a2851a923970afb548275aebffc480a55/images/space_generator.png' width=800 align='left'>"
   ]
  },
  {
   "cell_type": "markdown",
   "metadata": {},
   "source": [
    "Generative Adversarial Network is a generative model that can be used to generate time series."
   ]
  },
  {
   "cell_type": "markdown",
   "metadata": {},
   "source": [
    "<img src='https://raw.githubusercontent.com/airi-industrial-ai/dsc23-tutorial/8e761b9a2851a923970afb548275aebffc480a55/images/gan_for_ts.png' width=800 align='left'>"
   ]
  },
  {
   "cell_type": "markdown",
   "metadata": {},
   "source": [
    "A Generative Adversarial Network (GAN) is a type of model that consists of two neural networks: a generator and a discriminator.\n",
    "\n",
    "* The objective of a generator (G) is to create realistic data\n",
    "* The objective of a discriminator (D) is to detect fake data\n",
    "\n",
    "We note the multivariate time series as $X_1, X_2, \\dots, X_N$, where $X_t \\in R^d$\n",
    "\n",
    "The general objective of GAN is\n",
    "\n",
    "$$\\min_G \\max_D V(D, G) = \\mathbb E_{X} \\log(D(X)) + \\mathbb E_{Z} \\log(1 - D(G(Z))$$"
   ]
  },
  {
   "cell_type": "markdown",
   "metadata": {},
   "source": [
    "In this tutorial we use GAN where a generator and a discriminator are Temporal Convolutional Networks (TCN)."
   ]
  },
  {
   "cell_type": "markdown",
   "metadata": {},
   "source": [
    "<img src='https://raw.githubusercontent.com/airi-industrial-ai/dsc23-tutorial/8e761b9a2851a923970afb548275aebffc480a55/images/tcn.png' width=700 align='left'>"
   ]
  },
  {
   "cell_type": "markdown",
   "metadata": {},
   "source": [
    "_Credits: Oord, Aaron van den, et al. \"Wavenet: A generative model for raw audio.\" arXiv preprint arXiv:1609.03499 (2016)._\n",
    "\n",
    "The main advantages of TCN:\n",
    "* Exponentially large receptive field — TCN can detect long and short patterns\n",
    "* Can be applied to time series of arbitrary length\n",
    "* Causal convolution prevents leakage from the future\n",
    "\n",
    "The key parameter of TCN is the number of channels (also known as filters, kernels).\n",
    "\n",
    "For generator:\n",
    "* Input channels: latent space dimensionality\n",
    "* Hidden channels: some large number to model temporal relationships\n",
    "* Output channels: time series dimensionality\n",
    "\n",
    "For discriminator:\n",
    "* Input channels: time series dimensionality\n",
    "* Hidden channels: some large number to model temporal relationships\n",
    "* Output channels: 1 (the probability that the data is fake)"
   ]
  },
  {
   "cell_type": "code",
   "execution_count": null,
   "metadata": {
    "id": "JpVx4z3DCn5a"
   },
   "outputs": [],
   "source": [
    "train_data = pd.concat([train_target, train_cov], axis=1)\n",
    "test_data = pd.concat([test_target, test_cov], axis=1)"
   ]
  },
  {
   "cell_type": "markdown",
   "metadata": {},
   "source": [
    "Let us define our TCN GAN:\n",
    "* `latent_dim` — the dimensionality of latent space which is Miltivariate Normal Distribution.\n",
    "* `hidden_dim` — the number of channels/filters/kernels in the hidden layers\n",
    "* `target_dim` — the dimenstionality of time series\n",
    "* `num_layers` — the number of TCN layers\n",
    "* `lr` — the learning rate for the optimization step\n",
    "\n",
    "The values of parameters can be tuned using some search strategies, such as grid or random search.\n",
    "\n",
    "Now we can start to train GAN. We will use test data for training GAN as we are looking for shifts near the test period."
   ]
  },
  {
   "cell_type": "code",
   "execution_count": null,
   "metadata": {
    "colab": {
     "base_uri": "https://localhost:8080/",
     "height": 335,
     "referenced_widgets": [
      "52ba316cb3b84e49bca278b1acdb353b",
      "adfd0caadde74c389a2bb96ac090a6b4",
      "c1591db29dd946fc8d118ec71c58daa9",
      "99972b1d6d59468791353a11a75caafa",
      "e6a0a48a25f14495869ee03658ed45ca",
      "ae472b2ad41f459bae15244f34b86b87",
      "411c153a40e44b12a4d818222de9cd70",
      "119603c06c0045f98c2a3c1f4e8a93ed",
      "0890527119ab410dae0cef25f362e726",
      "eedbf84e87164e48a9521af1fefef461",
      "e95d9e587ba24c30913262bda44d25f2"
     ]
    },
    "id": "l5lo0ojAer68",
    "outputId": "8332406d-ec8c-4c97-c1c4-23e8250a617f"
   },
   "outputs": [],
   "source": [
    "\"\"\"\n",
    "gan = TCNGAN(\n",
    "    target_columns=target.columns,\n",
    "    conditional_columns=cov.columns,\n",
    "    window_size=100,\n",
    "    num_epochs=400,\n",
    "    num_layers=1,\n",
    "    hidden_dim=64,\n",
    "    latent_dim=2,\n",
    "    verbose=True,\n",
    "    lr=0.01,\n",
    ")\n",
    "gan.fit(test_data)\n",
    "\"\"\";"
   ]
  },
  {
   "cell_type": "markdown",
   "metadata": {},
   "source": [
    "GAN is known as an unstable model in training, since the generator and discriminator fluctuate without a guarantee of convergence. Thus, it is strongly recommended to monitor auxiliary metrics to determine the total number of training steps, e.g. KS-distance or EMD.\n",
    "\n",
    "Here we load the pretrained model from a `checkpoint` file."
   ]
  },
  {
   "cell_type": "code",
   "execution_count": null,
   "metadata": {},
   "outputs": [],
   "source": [
    "url = 'https://github.com/airi-industrial-ai/dsc23-tutorial/raw/main/weights/gan-epoch=399-step=26000.ckpt'\n",
    "r = requests.get(url)\n",
    "open('gan-epoch=399-step=26000.ckpt', 'wb').write(r.content);"
   ]
  },
  {
   "cell_type": "code",
   "execution_count": null,
   "metadata": {
    "id": "b4d4UZviCdpU"
   },
   "outputs": [],
   "source": [
    "gan = TCNGAN(\n",
    "    target_columns=target.columns,\n",
    "    conditional_columns=cov.columns,\n",
    "    window_size=100,\n",
    "    num_epochs=400,\n",
    "    num_layers=1,\n",
    "    hidden_dim=64,\n",
    "    latent_dim=2,\n",
    "    verbose=True,\n",
    "    lr=0.01,\n",
    ")\n",
    "load_from_checkpoint(gan, 'gan-epoch=399-step=26000.ckpt')"
   ]
  },
  {
   "cell_type": "markdown",
   "metadata": {},
   "source": [
    "## Evaluation of generated time series"
   ]
  },
  {
   "cell_type": "markdown",
   "metadata": {},
   "source": [
    "Visual evaluation by time series plots:"
   ]
  },
  {
   "cell_type": "code",
   "execution_count": null,
   "metadata": {
    "colab": {
     "base_uri": "https://localhost:8080/",
     "height": 291
    },
    "id": "0sRQpQKdhxwT",
    "outputId": "f19ad8c9-9886-4cfb-e133-f10a59e6a937"
   },
   "outputs": [],
   "source": [
    "plt.figure(figsize=(12, 3))\n",
    "fakes = gan.sample(test_data, n_samples=5)\n",
    "for fake in fakes:\n",
    "    fake_target = fake[target.columns]\n",
    "    fake_cov = fake[cov.columns]\n",
    "    plt.plot(fake_target, alpha=0.5)\n",
    "plt.plot(test_target, c='black')\n",
    "plt.show()"
   ]
  },
  {
   "cell_type": "markdown",
   "metadata": {},
   "source": [
    "Visual evaluation by histograms of difference:"
   ]
  },
  {
   "cell_type": "code",
   "execution_count": null,
   "metadata": {
    "colab": {
     "base_uri": "https://localhost:8080/",
     "height": 452
    },
    "id": "dX5Y3iDYKTaf",
    "outputId": "b30bd67b-521a-444a-c610-22efe54a6aa9"
   },
   "outputs": [],
   "source": [
    "hist2samp(test_target, fake_target, 'test', 'fake', nbins=30)"
   ]
  },
  {
   "cell_type": "markdown",
   "metadata": {},
   "source": [
    "Visual evaluation by auto-correlation functions of time series:"
   ]
  },
  {
   "cell_type": "code",
   "execution_count": null,
   "metadata": {
    "colab": {
     "base_uri": "https://localhost:8080/",
     "height": 622
    },
    "id": "Z0hPQRLQURlp",
    "outputId": "3df747b8-c9cb-4928-d6c0-9cf4cdf2d80f"
   },
   "outputs": [],
   "source": [
    "pacf2samp(test_target, fake_target, 'test', 'fake', nlags=30)"
   ]
  },
  {
   "cell_type": "markdown",
   "metadata": {},
   "source": [
    "Statistical testing:"
   ]
  },
  {
   "cell_type": "code",
   "execution_count": null,
   "metadata": {},
   "outputs": [],
   "source": [
    "ks_2samp(\n",
    "    (fake_target - fake_target.shift(1)).supply, \n",
    "    (test_target - test_target.shift(1)).supply\n",
    ").pvalue"
   ]
  },
  {
   "cell_type": "markdown",
   "metadata": {},
   "source": [
    "Comparison with baselines:"
   ]
  },
  {
   "cell_type": "code",
   "execution_count": null,
   "metadata": {},
   "outputs": [],
   "source": [
    "def pacf_error(target0, target1, nlags=10):\n",
    "    pacf0 = acf(target0, nlags=nlags)[1:]\n",
    "    pacf1 = acf(target1, nlags=nlags)[1:]\n",
    "    error = (pacf0 - pacf1)**2\n",
    "    return error.mean()"
   ]
  },
  {
   "cell_type": "code",
   "execution_count": null,
   "metadata": {},
   "outputs": [],
   "source": [
    "pacf_error(test_target, fake_target)"
   ]
  },
  {
   "cell_type": "code",
   "execution_count": null,
   "metadata": {},
   "outputs": [],
   "source": [
    "noise = np.random.randn(len(test_target))\n",
    "pacf_error(test_target, noise)"
   ]
  },
  {
   "cell_type": "markdown",
   "metadata": {},
   "source": [
    "We can see that the fake time series are similar to real ones. For more information, see, for example, Wiese, Magnus, et al. \"Quant GANs: deep generation of financial time series.\" Quantitative Finance 20.9 (2020): 1419-1440.\n",
    "\n",
    "Conclusions so far:\n",
    "* We split the dataset into train, test sets\n",
    "* We trained GAN on the test set, as we are looking for shifts close to the test period\n",
    "* We created fake time series and visually checked that they are similar to the real ones"
   ]
  },
  {
   "cell_type": "markdown",
   "metadata": {},
   "source": [
    "## Worst-case risk on fake data"
   ]
  },
  {
   "cell_type": "markdown",
   "metadata": {},
   "source": [
    "Generative models has generalization property: they can generate plausible examples that are invisible in real data. We can use it to find new covariate shifts in the original dsitribution."
   ]
  },
  {
   "cell_type": "markdown",
   "metadata": {},
   "source": [
    "<img src='https://raw.githubusercontent.com/airi-industrial-ai/dsc23-tutorial/8e761b9a2851a923970afb548275aebffc480a55/images/wrc_fake.png' width=700 align='left'>"
   ]
  },
  {
   "cell_type": "markdown",
   "metadata": {},
   "source": [
    "Let us generate data using GAN and estimate worst-case risk on fake data. "
   ]
  },
  {
   "cell_type": "code",
   "execution_count": null,
   "metadata": {
    "colab": {
     "base_uri": "https://localhost:8080/"
    },
    "id": "tSxa_fleDG_V",
    "outputId": "f6552878-cb74-41fa-eec6-bee084c85a3f"
   },
   "outputs": [],
   "source": [
    "fake_index = pd.date_range(\n",
    "    start=test_target.index[0],\n",
    "    periods=len(test_target)*5,\n",
    "    freq=test_target.index.freq\n",
    ")\n",
    "fake_cov = positional_encoding(fake_index, ['weekofyear'])\n",
    "fake_target = gan.sample(fake_cov, n_samples=1)[0][target.columns]"
   ]
  },
  {
   "cell_type": "code",
   "execution_count": null,
   "metadata": {
    "colab": {
     "base_uri": "https://localhost:8080/",
     "height": 67,
     "referenced_widgets": [
      "5a29e6c14e7d4ec1a3282275db04d15b",
      "2d1e9bf119244f32a311af8575f5baab",
      "a9e973bd3a2742178be6e79ee43e75d3",
      "da039a6900b24be38d7b8efd11a4a63b",
      "5da214a010904cc3abbb9404524e5c79",
      "940984da83594c5e893ae0b529f820e9",
      "a716cffdf40c496a9c5658ef8c3505d8",
      "cd133d7308bf496987582a7ec3dac155",
      "37e17dfc11014d8d9bab614fd07c67a2",
      "4f60197b70f74f309d6989ead6482938",
      "2fbcbd5afa2442699b1fc18912ff22d3"
     ]
    },
    "id": "NtvQsqR9JKKx",
    "outputId": "fab5287a-ab60-43be-aa17-386522c449c7",
    "scrolled": true
   },
   "outputs": [],
   "source": [
    "fake_lstm_error = backtest(lstm_model, input_size=10, horizon=100, target=fake_target, cov=fake_cov)\n",
    "fake_lstm_error.mean()"
   ]
  },
  {
   "cell_type": "markdown",
   "metadata": {},
   "source": [
    "As we see, the quality on the fake set is close to the test set. It means that the model cannot detect much discrepancy between them.\n",
    "\n",
    "We define mutable and immutable variables."
   ]
  },
  {
   "cell_type": "code",
   "execution_count": null,
   "metadata": {
    "colab": {
     "base_uri": "https://localhost:8080/",
     "height": 456,
     "referenced_widgets": [
      "f164c63533fc4b2ea8353c57f99b5b7f",
      "74aa039833cc4fe6b61ead1b2badb2c8",
      "ea811acb5cee47db9f7529840afce9e1",
      "76bcfa671b4145c6a95703ac9f577771",
      "8a915991a0e744d39ea758747f201fd8",
      "3c5b7cb591d142daa43b593d3f8b5b3e",
      "96c90f32d51f4334af8b07922ac8e564",
      "65a8f13cfcd84b139865e5a8dbad0618",
      "c42b9e3667d84d9aa31086c5e18dbea5",
      "5f4b59c34ac34593af4d77b71ddce880",
      "10737629fa834c9ab55fb7f0878b6bcc"
     ]
    },
    "id": "hAfz2c5VKgh1",
    "outputId": "feef8669-68c5-4e0a-a878-a11928abc87e"
   },
   "outputs": [],
   "source": [
    "fake_input_seq = input_seq_dataset(\n",
    "    input_size=10, horizon=100,\n",
    "    target=fake_target,\n",
    "    cov=fake_cov,\n",
    "    lags=5)\n",
    "fake_input_seq"
   ]
  },
  {
   "cell_type": "markdown",
   "metadata": {},
   "source": [
    "We estimate worst-case risk on fake data."
   ]
  },
  {
   "cell_type": "code",
   "execution_count": null,
   "metadata": {
    "colab": {
     "base_uri": "https://localhost:8080/",
     "height": 49,
     "referenced_widgets": [
      "bb810db36bd048afa1c808ed6a7803ea",
      "fe76f0729f794f48b526e9b65d463cb6",
      "b4b63fda006641ebbeed44de9421f3a2",
      "5644c698673342a8a873aa9ea7c90f60",
      "d6e57eff72d54fc3814a45da65665cae",
      "fb322620f42c4015ab1f9c4cdb737f92",
      "7ac244f5e9f64249bc9ace5b7cc08758",
      "60858d4aed844a6b81ef3c9e1cb3b0f0",
      "1dd50d59728b4eba9d401fe95f2c92ee",
      "0b33465bf23a4472bd005459d13f86ba",
      "161eb3479f744df182b03ea3a0450324"
     ]
    },
    "id": "_gmZORPk6VXR",
    "outputId": "c7317b03-bade-4520-83d0-67f45f1021ed"
   },
   "outputs": [],
   "source": [
    "alphaspace = np.linspace(0.1, 0.9, 9)\n",
    "fake_lstm_risk = []\n",
    "for alpha in tqdm(alphaspace):\n",
    "    shift_model = ConditionalShift(mutable_columns, immutable_columns, alpha=alpha)\n",
    "    shift_model.fit(fake_input_seq, fake_lstm_error)\n",
    "    fake_lstm_risk.append((shift_model.risk, shift_model.lb_risk, shift_model.ub_risk))\n",
    "fake_lstm_risk = np.array(fake_lstm_risk)"
   ]
  },
  {
   "cell_type": "markdown",
   "metadata": {},
   "source": [
    "Let us compare estimated risk on test and fake data."
   ]
  },
  {
   "cell_type": "code",
   "execution_count": null,
   "metadata": {
    "colab": {
     "base_uri": "https://localhost:8080/",
     "height": 430
    },
    "id": "zLoZKJRCNhJJ",
    "outputId": "212ae808-8c0a-4922-f7f1-6230e8bba2a9"
   },
   "outputs": [],
   "source": [
    "plt.plot(alphaspace, test_lstm_risk[:, 0], c='tab:blue', label='test data')\n",
    "plt.fill_between(alphaspace, test_lstm_risk[:, 1], test_lstm_risk[:, 2], alpha=0.2, color='tab:blue')\n",
    "\n",
    "plt.plot(alphaspace, fake_lstm_risk[:, 0], c='tab:green', label='fake data')\n",
    "plt.fill_between(alphaspace, fake_lstm_risk[:, 1], fake_lstm_risk[:, 2], alpha=0.2, color='tab:green')\n",
    "\n",
    "plt.legend()\n",
    "plt.title('Worst-case risk evaluation')\n",
    "plt.xlabel('alpha, risk level')\n",
    "plt.ylabel('MSE')\n",
    "\n",
    "plt.show()"
   ]
  },
  {
   "cell_type": "markdown",
   "metadata": {},
   "source": [
    "As we can see, we can get a narrower uncertainty interval for fake data. This means that we can more precisely assess the robustness of the model using fake data.\n",
    "\n",
    "Finally, let us look at some generated stress examples."
   ]
  },
  {
   "cell_type": "code",
   "execution_count": null,
   "metadata": {},
   "outputs": [],
   "source": [
    "risk_date = fake_input_seq[shift_model.mask].index[0]\n",
    "risk_idx = np.where(fake_target.index == risk_date)[0][0]\n",
    "\n",
    "plt.figure(figsize=(10, 3))\n",
    "plt.plot(test_target.iloc[risk_idx-10:risk_idx+100])\n",
    "plt.show()"
   ]
  },
  {
   "cell_type": "markdown",
   "metadata": {},
   "source": [
    "## Discussion"
   ]
  },
  {
   "cell_type": "markdown",
   "metadata": {},
   "source": [
    "Generative models produce realistic data that can help estimate the model robustness to dataset shifts, however it brings some challenges.\n",
    "\n",
    "1. It is hard to tune parameters and train deep generative models such GAN\n",
    "2. It is hard to estimate how close the fake time series to real ones: no scientific standard so far\n",
    "3. We assume that generative model generalizes original data distribution"
   ]
  },
  {
   "cell_type": "markdown",
   "metadata": {},
   "source": [
    "## Conclusion"
   ]
  },
  {
   "cell_type": "markdown",
   "metadata": {},
   "source": [
    "Today we've learned the following:\n",
    "\n",
    "1. What is the dataset shifts\n",
    "2. How to prepare a dataset for time series forecasting\n",
    "3. How to train and test a LSTM-based forecasting model\n",
    "4. What is the worst-case risk\n",
    "5. How to evaluate the stability of the LSTM-based model using the worst-case risk\n",
    "6. What is the time series generation\n",
    "7. How to generate fake time series similar to the original dataset\n",
    "8. How to evaluate the stablity of the LSTM-based model using the worst-case risk on fake data"
   ]
  },
  {
   "cell_type": "markdown",
   "metadata": {},
   "source": [
    "### Feel free to write me on pozdnyakov@airi.net"
   ]
  },
  {
   "cell_type": "code",
   "execution_count": null,
   "metadata": {},
   "outputs": [],
   "source": []
  }
 ],
 "metadata": {
  "accelerator": "GPU",
  "colab": {
   "gpuType": "V100",
   "machine_shape": "hm",
   "provenance": []
  },
  "kernelspec": {
   "display_name": "Python 3 (ipykernel)",
   "language": "python",
   "name": "python3"
  },
  "language_info": {
   "codemirror_mode": {
    "name": "ipython",
    "version": 3
   },
   "file_extension": ".py",
   "mimetype": "text/x-python",
   "name": "python",
   "nbconvert_exporter": "python",
   "pygments_lexer": "ipython3",
   "version": "3.9.17"
  },
  "widgets": {
   "application/vnd.jupyter.widget-state+json": {
    "00e588b83ba843c19270831d7c609993": {
     "model_module": "@jupyter-widgets/controls",
     "model_module_version": "1.5.0",
     "model_name": "DescriptionStyleModel",
     "state": {
      "_model_module": "@jupyter-widgets/controls",
      "_model_module_version": "1.5.0",
      "_model_name": "DescriptionStyleModel",
      "_view_count": null,
      "_view_module": "@jupyter-widgets/base",
      "_view_module_version": "1.2.0",
      "_view_name": "StyleView",
      "description_width": ""
     }
    },
    "0562ee7f31d1432688ec4b8eab6ba5a1": {
     "model_module": "@jupyter-widgets/controls",
     "model_module_version": "1.5.0",
     "model_name": "FloatProgressModel",
     "state": {
      "_dom_classes": [],
      "_model_module": "@jupyter-widgets/controls",
      "_model_module_version": "1.5.0",
      "_model_name": "FloatProgressModel",
      "_view_count": null,
      "_view_module": "@jupyter-widgets/controls",
      "_view_module_version": "1.5.0",
      "_view_name": "ProgressView",
      "bar_style": "success",
      "description": "",
      "description_tooltip": null,
      "layout": "IPY_MODEL_dd9c948d944945a4984f5cad0eea3e13",
      "max": 9,
      "min": 0,
      "orientation": "horizontal",
      "style": "IPY_MODEL_e75034c6875d4f3fae51b38cbffc4616",
      "value": 9
     }
    },
    "0890527119ab410dae0cef25f362e726": {
     "model_module": "@jupyter-widgets/controls",
     "model_module_version": "1.5.0",
     "model_name": "ProgressStyleModel",
     "state": {
      "_model_module": "@jupyter-widgets/controls",
      "_model_module_version": "1.5.0",
      "_model_name": "ProgressStyleModel",
      "_view_count": null,
      "_view_module": "@jupyter-widgets/base",
      "_view_module_version": "1.2.0",
      "_view_name": "StyleView",
      "bar_color": null,
      "description_width": ""
     }
    },
    "0b33465bf23a4472bd005459d13f86ba": {
     "model_module": "@jupyter-widgets/base",
     "model_module_version": "1.2.0",
     "model_name": "LayoutModel",
     "state": {
      "_model_module": "@jupyter-widgets/base",
      "_model_module_version": "1.2.0",
      "_model_name": "LayoutModel",
      "_view_count": null,
      "_view_module": "@jupyter-widgets/base",
      "_view_module_version": "1.2.0",
      "_view_name": "LayoutView",
      "align_content": null,
      "align_items": null,
      "align_self": null,
      "border": null,
      "bottom": null,
      "display": null,
      "flex": null,
      "flex_flow": null,
      "grid_area": null,
      "grid_auto_columns": null,
      "grid_auto_flow": null,
      "grid_auto_rows": null,
      "grid_column": null,
      "grid_gap": null,
      "grid_row": null,
      "grid_template_areas": null,
      "grid_template_columns": null,
      "grid_template_rows": null,
      "height": null,
      "justify_content": null,
      "justify_items": null,
      "left": null,
      "margin": null,
      "max_height": null,
      "max_width": null,
      "min_height": null,
      "min_width": null,
      "object_fit": null,
      "object_position": null,
      "order": null,
      "overflow": null,
      "overflow_x": null,
      "overflow_y": null,
      "padding": null,
      "right": null,
      "top": null,
      "visibility": null,
      "width": null
     }
    },
    "0edb4b75d54d485f9d1bac9132fdb754": {
     "model_module": "@jupyter-widgets/base",
     "model_module_version": "1.2.0",
     "model_name": "LayoutModel",
     "state": {
      "_model_module": "@jupyter-widgets/base",
      "_model_module_version": "1.2.0",
      "_model_name": "LayoutModel",
      "_view_count": null,
      "_view_module": "@jupyter-widgets/base",
      "_view_module_version": "1.2.0",
      "_view_name": "LayoutView",
      "align_content": null,
      "align_items": null,
      "align_self": null,
      "border": null,
      "bottom": null,
      "display": null,
      "flex": null,
      "flex_flow": null,
      "grid_area": null,
      "grid_auto_columns": null,
      "grid_auto_flow": null,
      "grid_auto_rows": null,
      "grid_column": null,
      "grid_gap": null,
      "grid_row": null,
      "grid_template_areas": null,
      "grid_template_columns": null,
      "grid_template_rows": null,
      "height": null,
      "justify_content": null,
      "justify_items": null,
      "left": null,
      "margin": null,
      "max_height": null,
      "max_width": null,
      "min_height": null,
      "min_width": null,
      "object_fit": null,
      "object_position": null,
      "order": null,
      "overflow": null,
      "overflow_x": null,
      "overflow_y": null,
      "padding": null,
      "right": null,
      "top": null,
      "visibility": null,
      "width": null
     }
    },
    "0f5e580d267843e79a22abf84ab0cc5e": {
     "model_module": "@jupyter-widgets/controls",
     "model_module_version": "1.5.0",
     "model_name": "DescriptionStyleModel",
     "state": {
      "_model_module": "@jupyter-widgets/controls",
      "_model_module_version": "1.5.0",
      "_model_name": "DescriptionStyleModel",
      "_view_count": null,
      "_view_module": "@jupyter-widgets/base",
      "_view_module_version": "1.2.0",
      "_view_name": "StyleView",
      "description_width": ""
     }
    },
    "10737629fa834c9ab55fb7f0878b6bcc": {
     "model_module": "@jupyter-widgets/controls",
     "model_module_version": "1.5.0",
     "model_name": "DescriptionStyleModel",
     "state": {
      "_model_module": "@jupyter-widgets/controls",
      "_model_module_version": "1.5.0",
      "_model_name": "DescriptionStyleModel",
      "_view_count": null,
      "_view_module": "@jupyter-widgets/base",
      "_view_module_version": "1.2.0",
      "_view_name": "StyleView",
      "description_width": ""
     }
    },
    "11349d25ce7943beb370782b21add144": {
     "model_module": "@jupyter-widgets/controls",
     "model_module_version": "1.5.0",
     "model_name": "DescriptionStyleModel",
     "state": {
      "_model_module": "@jupyter-widgets/controls",
      "_model_module_version": "1.5.0",
      "_model_name": "DescriptionStyleModel",
      "_view_count": null,
      "_view_module": "@jupyter-widgets/base",
      "_view_module_version": "1.2.0",
      "_view_name": "StyleView",
      "description_width": ""
     }
    },
    "119603c06c0045f98c2a3c1f4e8a93ed": {
     "model_module": "@jupyter-widgets/base",
     "model_module_version": "1.2.0",
     "model_name": "LayoutModel",
     "state": {
      "_model_module": "@jupyter-widgets/base",
      "_model_module_version": "1.2.0",
      "_model_name": "LayoutModel",
      "_view_count": null,
      "_view_module": "@jupyter-widgets/base",
      "_view_module_version": "1.2.0",
      "_view_name": "LayoutView",
      "align_content": null,
      "align_items": null,
      "align_self": null,
      "border": null,
      "bottom": null,
      "display": null,
      "flex": "2",
      "flex_flow": null,
      "grid_area": null,
      "grid_auto_columns": null,
      "grid_auto_flow": null,
      "grid_auto_rows": null,
      "grid_column": null,
      "grid_gap": null,
      "grid_row": null,
      "grid_template_areas": null,
      "grid_template_columns": null,
      "grid_template_rows": null,
      "height": null,
      "justify_content": null,
      "justify_items": null,
      "left": null,
      "margin": null,
      "max_height": null,
      "max_width": null,
      "min_height": null,
      "min_width": null,
      "object_fit": null,
      "object_position": null,
      "order": null,
      "overflow": null,
      "overflow_x": null,
      "overflow_y": null,
      "padding": null,
      "right": null,
      "top": null,
      "visibility": null,
      "width": null
     }
    },
    "161eb3479f744df182b03ea3a0450324": {
     "model_module": "@jupyter-widgets/controls",
     "model_module_version": "1.5.0",
     "model_name": "DescriptionStyleModel",
     "state": {
      "_model_module": "@jupyter-widgets/controls",
      "_model_module_version": "1.5.0",
      "_model_name": "DescriptionStyleModel",
      "_view_count": null,
      "_view_module": "@jupyter-widgets/base",
      "_view_module_version": "1.2.0",
      "_view_name": "StyleView",
      "description_width": ""
     }
    },
    "1dd50d59728b4eba9d401fe95f2c92ee": {
     "model_module": "@jupyter-widgets/controls",
     "model_module_version": "1.5.0",
     "model_name": "ProgressStyleModel",
     "state": {
      "_model_module": "@jupyter-widgets/controls",
      "_model_module_version": "1.5.0",
      "_model_name": "ProgressStyleModel",
      "_view_count": null,
      "_view_module": "@jupyter-widgets/base",
      "_view_module_version": "1.2.0",
      "_view_name": "StyleView",
      "bar_color": null,
      "description_width": ""
     }
    },
    "263b1ca58a974360a3c476ed01ecfe06": {
     "model_module": "@jupyter-widgets/controls",
     "model_module_version": "1.5.0",
     "model_name": "ProgressStyleModel",
     "state": {
      "_model_module": "@jupyter-widgets/controls",
      "_model_module_version": "1.5.0",
      "_model_name": "ProgressStyleModel",
      "_view_count": null,
      "_view_module": "@jupyter-widgets/base",
      "_view_module_version": "1.2.0",
      "_view_name": "StyleView",
      "bar_color": null,
      "description_width": ""
     }
    },
    "2d1e9bf119244f32a311af8575f5baab": {
     "model_module": "@jupyter-widgets/controls",
     "model_module_version": "1.5.0",
     "model_name": "HTMLModel",
     "state": {
      "_dom_classes": [],
      "_model_module": "@jupyter-widgets/controls",
      "_model_module_version": "1.5.0",
      "_model_name": "HTMLModel",
      "_view_count": null,
      "_view_module": "@jupyter-widgets/controls",
      "_view_module_version": "1.5.0",
      "_view_name": "HTMLView",
      "description": "",
      "description_tooltip": null,
      "layout": "IPY_MODEL_940984da83594c5e893ae0b529f820e9",
      "placeholder": "​",
      "style": "IPY_MODEL_a716cffdf40c496a9c5658ef8c3505d8",
      "value": "100%"
     }
    },
    "2fbcbd5afa2442699b1fc18912ff22d3": {
     "model_module": "@jupyter-widgets/controls",
     "model_module_version": "1.5.0",
     "model_name": "DescriptionStyleModel",
     "state": {
      "_model_module": "@jupyter-widgets/controls",
      "_model_module_version": "1.5.0",
      "_model_name": "DescriptionStyleModel",
      "_view_count": null,
      "_view_module": "@jupyter-widgets/base",
      "_view_module_version": "1.2.0",
      "_view_name": "StyleView",
      "description_width": ""
     }
    },
    "32eff2ca979840b5b4e96cb2949b2b01": {
     "model_module": "@jupyter-widgets/controls",
     "model_module_version": "1.5.0",
     "model_name": "DescriptionStyleModel",
     "state": {
      "_model_module": "@jupyter-widgets/controls",
      "_model_module_version": "1.5.0",
      "_model_name": "DescriptionStyleModel",
      "_view_count": null,
      "_view_module": "@jupyter-widgets/base",
      "_view_module_version": "1.2.0",
      "_view_name": "StyleView",
      "description_width": ""
     }
    },
    "37e17dfc11014d8d9bab614fd07c67a2": {
     "model_module": "@jupyter-widgets/controls",
     "model_module_version": "1.5.0",
     "model_name": "ProgressStyleModel",
     "state": {
      "_model_module": "@jupyter-widgets/controls",
      "_model_module_version": "1.5.0",
      "_model_name": "ProgressStyleModel",
      "_view_count": null,
      "_view_module": "@jupyter-widgets/base",
      "_view_module_version": "1.2.0",
      "_view_name": "StyleView",
      "bar_color": null,
      "description_width": ""
     }
    },
    "3c5b7cb591d142daa43b593d3f8b5b3e": {
     "model_module": "@jupyter-widgets/base",
     "model_module_version": "1.2.0",
     "model_name": "LayoutModel",
     "state": {
      "_model_module": "@jupyter-widgets/base",
      "_model_module_version": "1.2.0",
      "_model_name": "LayoutModel",
      "_view_count": null,
      "_view_module": "@jupyter-widgets/base",
      "_view_module_version": "1.2.0",
      "_view_name": "LayoutView",
      "align_content": null,
      "align_items": null,
      "align_self": null,
      "border": null,
      "bottom": null,
      "display": null,
      "flex": null,
      "flex_flow": null,
      "grid_area": null,
      "grid_auto_columns": null,
      "grid_auto_flow": null,
      "grid_auto_rows": null,
      "grid_column": null,
      "grid_gap": null,
      "grid_row": null,
      "grid_template_areas": null,
      "grid_template_columns": null,
      "grid_template_rows": null,
      "height": null,
      "justify_content": null,
      "justify_items": null,
      "left": null,
      "margin": null,
      "max_height": null,
      "max_width": null,
      "min_height": null,
      "min_width": null,
      "object_fit": null,
      "object_position": null,
      "order": null,
      "overflow": null,
      "overflow_x": null,
      "overflow_y": null,
      "padding": null,
      "right": null,
      "top": null,
      "visibility": null,
      "width": null
     }
    },
    "411c153a40e44b12a4d818222de9cd70": {
     "model_module": "@jupyter-widgets/controls",
     "model_module_version": "1.5.0",
     "model_name": "DescriptionStyleModel",
     "state": {
      "_model_module": "@jupyter-widgets/controls",
      "_model_module_version": "1.5.0",
      "_model_name": "DescriptionStyleModel",
      "_view_count": null,
      "_view_module": "@jupyter-widgets/base",
      "_view_module_version": "1.2.0",
      "_view_name": "StyleView",
      "description_width": ""
     }
    },
    "499e68f055b441adaa729960cd39634d": {
     "model_module": "@jupyter-widgets/base",
     "model_module_version": "1.2.0",
     "model_name": "LayoutModel",
     "state": {
      "_model_module": "@jupyter-widgets/base",
      "_model_module_version": "1.2.0",
      "_model_name": "LayoutModel",
      "_view_count": null,
      "_view_module": "@jupyter-widgets/base",
      "_view_module_version": "1.2.0",
      "_view_name": "LayoutView",
      "align_content": null,
      "align_items": null,
      "align_self": null,
      "border": null,
      "bottom": null,
      "display": null,
      "flex": null,
      "flex_flow": null,
      "grid_area": null,
      "grid_auto_columns": null,
      "grid_auto_flow": null,
      "grid_auto_rows": null,
      "grid_column": null,
      "grid_gap": null,
      "grid_row": null,
      "grid_template_areas": null,
      "grid_template_columns": null,
      "grid_template_rows": null,
      "height": null,
      "justify_content": null,
      "justify_items": null,
      "left": null,
      "margin": null,
      "max_height": null,
      "max_width": null,
      "min_height": null,
      "min_width": null,
      "object_fit": null,
      "object_position": null,
      "order": null,
      "overflow": null,
      "overflow_x": null,
      "overflow_y": null,
      "padding": null,
      "right": null,
      "top": null,
      "visibility": null,
      "width": null
     }
    },
    "4ba48bc459b14031ab9e49e653cdcef5": {
     "model_module": "@jupyter-widgets/base",
     "model_module_version": "1.2.0",
     "model_name": "LayoutModel",
     "state": {
      "_model_module": "@jupyter-widgets/base",
      "_model_module_version": "1.2.0",
      "_model_name": "LayoutModel",
      "_view_count": null,
      "_view_module": "@jupyter-widgets/base",
      "_view_module_version": "1.2.0",
      "_view_name": "LayoutView",
      "align_content": null,
      "align_items": null,
      "align_self": null,
      "border": null,
      "bottom": null,
      "display": null,
      "flex": null,
      "flex_flow": null,
      "grid_area": null,
      "grid_auto_columns": null,
      "grid_auto_flow": null,
      "grid_auto_rows": null,
      "grid_column": null,
      "grid_gap": null,
      "grid_row": null,
      "grid_template_areas": null,
      "grid_template_columns": null,
      "grid_template_rows": null,
      "height": null,
      "justify_content": null,
      "justify_items": null,
      "left": null,
      "margin": null,
      "max_height": null,
      "max_width": null,
      "min_height": null,
      "min_width": null,
      "object_fit": null,
      "object_position": null,
      "order": null,
      "overflow": null,
      "overflow_x": null,
      "overflow_y": null,
      "padding": null,
      "right": null,
      "top": null,
      "visibility": null,
      "width": null
     }
    },
    "4c24a6139e134980822ee59bbdfc0d0e": {
     "model_module": "@jupyter-widgets/controls",
     "model_module_version": "1.5.0",
     "model_name": "HBoxModel",
     "state": {
      "_dom_classes": [],
      "_model_module": "@jupyter-widgets/controls",
      "_model_module_version": "1.5.0",
      "_model_name": "HBoxModel",
      "_view_count": null,
      "_view_module": "@jupyter-widgets/controls",
      "_view_module_version": "1.5.0",
      "_view_name": "HBoxView",
      "box_style": "",
      "children": [
       "IPY_MODEL_512c13babe85481f973da16b83ee39c2",
       "IPY_MODEL_c2d208980ca5493c90a2bb0913e474e1",
       "IPY_MODEL_cd5688180a8d497a81e07fa3174e2e37"
      ],
      "layout": "IPY_MODEL_56902726decc4c59a6078881c0a923a6"
     }
    },
    "4f60197b70f74f309d6989ead6482938": {
     "model_module": "@jupyter-widgets/base",
     "model_module_version": "1.2.0",
     "model_name": "LayoutModel",
     "state": {
      "_model_module": "@jupyter-widgets/base",
      "_model_module_version": "1.2.0",
      "_model_name": "LayoutModel",
      "_view_count": null,
      "_view_module": "@jupyter-widgets/base",
      "_view_module_version": "1.2.0",
      "_view_name": "LayoutView",
      "align_content": null,
      "align_items": null,
      "align_self": null,
      "border": null,
      "bottom": null,
      "display": null,
      "flex": null,
      "flex_flow": null,
      "grid_area": null,
      "grid_auto_columns": null,
      "grid_auto_flow": null,
      "grid_auto_rows": null,
      "grid_column": null,
      "grid_gap": null,
      "grid_row": null,
      "grid_template_areas": null,
      "grid_template_columns": null,
      "grid_template_rows": null,
      "height": null,
      "justify_content": null,
      "justify_items": null,
      "left": null,
      "margin": null,
      "max_height": null,
      "max_width": null,
      "min_height": null,
      "min_width": null,
      "object_fit": null,
      "object_position": null,
      "order": null,
      "overflow": null,
      "overflow_x": null,
      "overflow_y": null,
      "padding": null,
      "right": null,
      "top": null,
      "visibility": null,
      "width": null
     }
    },
    "512c13babe85481f973da16b83ee39c2": {
     "model_module": "@jupyter-widgets/controls",
     "model_module_version": "1.5.0",
     "model_name": "HTMLModel",
     "state": {
      "_dom_classes": [],
      "_model_module": "@jupyter-widgets/controls",
      "_model_module_version": "1.5.0",
      "_model_name": "HTMLModel",
      "_view_count": null,
      "_view_module": "@jupyter-widgets/controls",
      "_view_module_version": "1.5.0",
      "_view_name": "HTMLView",
      "description": "",
      "description_tooltip": null,
      "layout": "IPY_MODEL_f8260020a824474fa3571b805b9c25cb",
      "placeholder": "​",
      "style": "IPY_MODEL_0f5e580d267843e79a22abf84ab0cc5e",
      "value": "100%"
     }
    },
    "518660cb88274d84bd51c7ddd57392df": {
     "model_module": "@jupyter-widgets/controls",
     "model_module_version": "1.5.0",
     "model_name": "ProgressStyleModel",
     "state": {
      "_model_module": "@jupyter-widgets/controls",
      "_model_module_version": "1.5.0",
      "_model_name": "ProgressStyleModel",
      "_view_count": null,
      "_view_module": "@jupyter-widgets/base",
      "_view_module_version": "1.2.0",
      "_view_name": "StyleView",
      "bar_color": null,
      "description_width": ""
     }
    },
    "52ba316cb3b84e49bca278b1acdb353b": {
     "model_module": "@jupyter-widgets/controls",
     "model_module_version": "1.5.0",
     "model_name": "HBoxModel",
     "state": {
      "_dom_classes": [],
      "_model_module": "@jupyter-widgets/controls",
      "_model_module_version": "1.5.0",
      "_model_name": "HBoxModel",
      "_view_count": null,
      "_view_module": "@jupyter-widgets/controls",
      "_view_module_version": "1.5.0",
      "_view_name": "HBoxView",
      "box_style": "",
      "children": [
       "IPY_MODEL_adfd0caadde74c389a2bb96ac090a6b4",
       "IPY_MODEL_c1591db29dd946fc8d118ec71c58daa9",
       "IPY_MODEL_99972b1d6d59468791353a11a75caafa"
      ],
      "layout": "IPY_MODEL_e6a0a48a25f14495869ee03658ed45ca"
     }
    },
    "55479728449e400d90dd8e6fcddb97ec": {
     "model_module": "@jupyter-widgets/controls",
     "model_module_version": "1.5.0",
     "model_name": "DescriptionStyleModel",
     "state": {
      "_model_module": "@jupyter-widgets/controls",
      "_model_module_version": "1.5.0",
      "_model_name": "DescriptionStyleModel",
      "_view_count": null,
      "_view_module": "@jupyter-widgets/base",
      "_view_module_version": "1.2.0",
      "_view_name": "StyleView",
      "description_width": ""
     }
    },
    "5644c698673342a8a873aa9ea7c90f60": {
     "model_module": "@jupyter-widgets/controls",
     "model_module_version": "1.5.0",
     "model_name": "HTMLModel",
     "state": {
      "_dom_classes": [],
      "_model_module": "@jupyter-widgets/controls",
      "_model_module_version": "1.5.0",
      "_model_name": "HTMLModel",
      "_view_count": null,
      "_view_module": "@jupyter-widgets/controls",
      "_view_module_version": "1.5.0",
      "_view_name": "HTMLView",
      "description": "",
      "description_tooltip": null,
      "layout": "IPY_MODEL_0b33465bf23a4472bd005459d13f86ba",
      "placeholder": "​",
      "style": "IPY_MODEL_161eb3479f744df182b03ea3a0450324",
      "value": " 9/9 [00:13&lt;00:00,  1.47s/it]"
     }
    },
    "56902726decc4c59a6078881c0a923a6": {
     "model_module": "@jupyter-widgets/base",
     "model_module_version": "1.2.0",
     "model_name": "LayoutModel",
     "state": {
      "_model_module": "@jupyter-widgets/base",
      "_model_module_version": "1.2.0",
      "_model_name": "LayoutModel",
      "_view_count": null,
      "_view_module": "@jupyter-widgets/base",
      "_view_module_version": "1.2.0",
      "_view_name": "LayoutView",
      "align_content": null,
      "align_items": null,
      "align_self": null,
      "border": null,
      "bottom": null,
      "display": null,
      "flex": null,
      "flex_flow": null,
      "grid_area": null,
      "grid_auto_columns": null,
      "grid_auto_flow": null,
      "grid_auto_rows": null,
      "grid_column": null,
      "grid_gap": null,
      "grid_row": null,
      "grid_template_areas": null,
      "grid_template_columns": null,
      "grid_template_rows": null,
      "height": null,
      "justify_content": null,
      "justify_items": null,
      "left": null,
      "margin": null,
      "max_height": null,
      "max_width": null,
      "min_height": null,
      "min_width": null,
      "object_fit": null,
      "object_position": null,
      "order": null,
      "overflow": null,
      "overflow_x": null,
      "overflow_y": null,
      "padding": null,
      "right": null,
      "top": null,
      "visibility": null,
      "width": null
     }
    },
    "5a29e6c14e7d4ec1a3282275db04d15b": {
     "model_module": "@jupyter-widgets/controls",
     "model_module_version": "1.5.0",
     "model_name": "HBoxModel",
     "state": {
      "_dom_classes": [],
      "_model_module": "@jupyter-widgets/controls",
      "_model_module_version": "1.5.0",
      "_model_name": "HBoxModel",
      "_view_count": null,
      "_view_module": "@jupyter-widgets/controls",
      "_view_module_version": "1.5.0",
      "_view_name": "HBoxView",
      "box_style": "",
      "children": [
       "IPY_MODEL_2d1e9bf119244f32a311af8575f5baab",
       "IPY_MODEL_a9e973bd3a2742178be6e79ee43e75d3",
       "IPY_MODEL_da039a6900b24be38d7b8efd11a4a63b"
      ],
      "layout": "IPY_MODEL_5da214a010904cc3abbb9404524e5c79"
     }
    },
    "5da214a010904cc3abbb9404524e5c79": {
     "model_module": "@jupyter-widgets/base",
     "model_module_version": "1.2.0",
     "model_name": "LayoutModel",
     "state": {
      "_model_module": "@jupyter-widgets/base",
      "_model_module_version": "1.2.0",
      "_model_name": "LayoutModel",
      "_view_count": null,
      "_view_module": "@jupyter-widgets/base",
      "_view_module_version": "1.2.0",
      "_view_name": "LayoutView",
      "align_content": null,
      "align_items": null,
      "align_self": null,
      "border": null,
      "bottom": null,
      "display": null,
      "flex": null,
      "flex_flow": null,
      "grid_area": null,
      "grid_auto_columns": null,
      "grid_auto_flow": null,
      "grid_auto_rows": null,
      "grid_column": null,
      "grid_gap": null,
      "grid_row": null,
      "grid_template_areas": null,
      "grid_template_columns": null,
      "grid_template_rows": null,
      "height": null,
      "justify_content": null,
      "justify_items": null,
      "left": null,
      "margin": null,
      "max_height": null,
      "max_width": null,
      "min_height": null,
      "min_width": null,
      "object_fit": null,
      "object_position": null,
      "order": null,
      "overflow": null,
      "overflow_x": null,
      "overflow_y": null,
      "padding": null,
      "right": null,
      "top": null,
      "visibility": null,
      "width": null
     }
    },
    "5f4b59c34ac34593af4d77b71ddce880": {
     "model_module": "@jupyter-widgets/base",
     "model_module_version": "1.2.0",
     "model_name": "LayoutModel",
     "state": {
      "_model_module": "@jupyter-widgets/base",
      "_model_module_version": "1.2.0",
      "_model_name": "LayoutModel",
      "_view_count": null,
      "_view_module": "@jupyter-widgets/base",
      "_view_module_version": "1.2.0",
      "_view_name": "LayoutView",
      "align_content": null,
      "align_items": null,
      "align_self": null,
      "border": null,
      "bottom": null,
      "display": null,
      "flex": null,
      "flex_flow": null,
      "grid_area": null,
      "grid_auto_columns": null,
      "grid_auto_flow": null,
      "grid_auto_rows": null,
      "grid_column": null,
      "grid_gap": null,
      "grid_row": null,
      "grid_template_areas": null,
      "grid_template_columns": null,
      "grid_template_rows": null,
      "height": null,
      "justify_content": null,
      "justify_items": null,
      "left": null,
      "margin": null,
      "max_height": null,
      "max_width": null,
      "min_height": null,
      "min_width": null,
      "object_fit": null,
      "object_position": null,
      "order": null,
      "overflow": null,
      "overflow_x": null,
      "overflow_y": null,
      "padding": null,
      "right": null,
      "top": null,
      "visibility": null,
      "width": null
     }
    },
    "60858d4aed844a6b81ef3c9e1cb3b0f0": {
     "model_module": "@jupyter-widgets/base",
     "model_module_version": "1.2.0",
     "model_name": "LayoutModel",
     "state": {
      "_model_module": "@jupyter-widgets/base",
      "_model_module_version": "1.2.0",
      "_model_name": "LayoutModel",
      "_view_count": null,
      "_view_module": "@jupyter-widgets/base",
      "_view_module_version": "1.2.0",
      "_view_name": "LayoutView",
      "align_content": null,
      "align_items": null,
      "align_self": null,
      "border": null,
      "bottom": null,
      "display": null,
      "flex": null,
      "flex_flow": null,
      "grid_area": null,
      "grid_auto_columns": null,
      "grid_auto_flow": null,
      "grid_auto_rows": null,
      "grid_column": null,
      "grid_gap": null,
      "grid_row": null,
      "grid_template_areas": null,
      "grid_template_columns": null,
      "grid_template_rows": null,
      "height": null,
      "justify_content": null,
      "justify_items": null,
      "left": null,
      "margin": null,
      "max_height": null,
      "max_width": null,
      "min_height": null,
      "min_width": null,
      "object_fit": null,
      "object_position": null,
      "order": null,
      "overflow": null,
      "overflow_x": null,
      "overflow_y": null,
      "padding": null,
      "right": null,
      "top": null,
      "visibility": null,
      "width": null
     }
    },
    "65a8f13cfcd84b139865e5a8dbad0618": {
     "model_module": "@jupyter-widgets/base",
     "model_module_version": "1.2.0",
     "model_name": "LayoutModel",
     "state": {
      "_model_module": "@jupyter-widgets/base",
      "_model_module_version": "1.2.0",
      "_model_name": "LayoutModel",
      "_view_count": null,
      "_view_module": "@jupyter-widgets/base",
      "_view_module_version": "1.2.0",
      "_view_name": "LayoutView",
      "align_content": null,
      "align_items": null,
      "align_self": null,
      "border": null,
      "bottom": null,
      "display": null,
      "flex": null,
      "flex_flow": null,
      "grid_area": null,
      "grid_auto_columns": null,
      "grid_auto_flow": null,
      "grid_auto_rows": null,
      "grid_column": null,
      "grid_gap": null,
      "grid_row": null,
      "grid_template_areas": null,
      "grid_template_columns": null,
      "grid_template_rows": null,
      "height": null,
      "justify_content": null,
      "justify_items": null,
      "left": null,
      "margin": null,
      "max_height": null,
      "max_width": null,
      "min_height": null,
      "min_width": null,
      "object_fit": null,
      "object_position": null,
      "order": null,
      "overflow": null,
      "overflow_x": null,
      "overflow_y": null,
      "padding": null,
      "right": null,
      "top": null,
      "visibility": null,
      "width": null
     }
    },
    "70df258810264524a8ce98843b4b119b": {
     "model_module": "@jupyter-widgets/base",
     "model_module_version": "1.2.0",
     "model_name": "LayoutModel",
     "state": {
      "_model_module": "@jupyter-widgets/base",
      "_model_module_version": "1.2.0",
      "_model_name": "LayoutModel",
      "_view_count": null,
      "_view_module": "@jupyter-widgets/base",
      "_view_module_version": "1.2.0",
      "_view_name": "LayoutView",
      "align_content": null,
      "align_items": null,
      "align_self": null,
      "border": null,
      "bottom": null,
      "display": null,
      "flex": null,
      "flex_flow": null,
      "grid_area": null,
      "grid_auto_columns": null,
      "grid_auto_flow": null,
      "grid_auto_rows": null,
      "grid_column": null,
      "grid_gap": null,
      "grid_row": null,
      "grid_template_areas": null,
      "grid_template_columns": null,
      "grid_template_rows": null,
      "height": null,
      "justify_content": null,
      "justify_items": null,
      "left": null,
      "margin": null,
      "max_height": null,
      "max_width": null,
      "min_height": null,
      "min_width": null,
      "object_fit": null,
      "object_position": null,
      "order": null,
      "overflow": null,
      "overflow_x": null,
      "overflow_y": null,
      "padding": null,
      "right": null,
      "top": null,
      "visibility": null,
      "width": null
     }
    },
    "74aa039833cc4fe6b61ead1b2badb2c8": {
     "model_module": "@jupyter-widgets/controls",
     "model_module_version": "1.5.0",
     "model_name": "HTMLModel",
     "state": {
      "_dom_classes": [],
      "_model_module": "@jupyter-widgets/controls",
      "_model_module_version": "1.5.0",
      "_model_name": "HTMLModel",
      "_view_count": null,
      "_view_module": "@jupyter-widgets/controls",
      "_view_module_version": "1.5.0",
      "_view_name": "HTMLView",
      "description": "",
      "description_tooltip": null,
      "layout": "IPY_MODEL_3c5b7cb591d142daa43b593d3f8b5b3e",
      "placeholder": "​",
      "style": "IPY_MODEL_96c90f32d51f4334af8b07922ac8e564",
      "value": "100%"
     }
    },
    "76bcfa671b4145c6a95703ac9f577771": {
     "model_module": "@jupyter-widgets/controls",
     "model_module_version": "1.5.0",
     "model_name": "HTMLModel",
     "state": {
      "_dom_classes": [],
      "_model_module": "@jupyter-widgets/controls",
      "_model_module_version": "1.5.0",
      "_model_name": "HTMLModel",
      "_view_count": null,
      "_view_module": "@jupyter-widgets/controls",
      "_view_module_version": "1.5.0",
      "_view_name": "HTMLView",
      "description": "",
      "description_tooltip": null,
      "layout": "IPY_MODEL_5f4b59c34ac34593af4d77b71ddce880",
      "placeholder": "​",
      "style": "IPY_MODEL_10737629fa834c9ab55fb7f0878b6bcc",
      "value": " 341/341 [00:00&lt;00:00, 1345.21it/s]"
     }
    },
    "7ac244f5e9f64249bc9ace5b7cc08758": {
     "model_module": "@jupyter-widgets/controls",
     "model_module_version": "1.5.0",
     "model_name": "DescriptionStyleModel",
     "state": {
      "_model_module": "@jupyter-widgets/controls",
      "_model_module_version": "1.5.0",
      "_model_name": "DescriptionStyleModel",
      "_view_count": null,
      "_view_module": "@jupyter-widgets/base",
      "_view_module_version": "1.2.0",
      "_view_name": "StyleView",
      "description_width": ""
     }
    },
    "7ba2e09809d74920a34f2d686990c67d": {
     "model_module": "@jupyter-widgets/base",
     "model_module_version": "1.2.0",
     "model_name": "LayoutModel",
     "state": {
      "_model_module": "@jupyter-widgets/base",
      "_model_module_version": "1.2.0",
      "_model_name": "LayoutModel",
      "_view_count": null,
      "_view_module": "@jupyter-widgets/base",
      "_view_module_version": "1.2.0",
      "_view_name": "LayoutView",
      "align_content": null,
      "align_items": null,
      "align_self": null,
      "border": null,
      "bottom": null,
      "display": null,
      "flex": null,
      "flex_flow": null,
      "grid_area": null,
      "grid_auto_columns": null,
      "grid_auto_flow": null,
      "grid_auto_rows": null,
      "grid_column": null,
      "grid_gap": null,
      "grid_row": null,
      "grid_template_areas": null,
      "grid_template_columns": null,
      "grid_template_rows": null,
      "height": null,
      "justify_content": null,
      "justify_items": null,
      "left": null,
      "margin": null,
      "max_height": null,
      "max_width": null,
      "min_height": null,
      "min_width": null,
      "object_fit": null,
      "object_position": null,
      "order": null,
      "overflow": null,
      "overflow_x": null,
      "overflow_y": null,
      "padding": null,
      "right": null,
      "top": null,
      "visibility": null,
      "width": null
     }
    },
    "7d66cd3761e74f1ab42bdf4ed385396b": {
     "model_module": "@jupyter-widgets/controls",
     "model_module_version": "1.5.0",
     "model_name": "HTMLModel",
     "state": {
      "_dom_classes": [],
      "_model_module": "@jupyter-widgets/controls",
      "_model_module_version": "1.5.0",
      "_model_name": "HTMLModel",
      "_view_count": null,
      "_view_module": "@jupyter-widgets/controls",
      "_view_module_version": "1.5.0",
      "_view_name": "HTMLView",
      "description": "",
      "description_tooltip": null,
      "layout": "IPY_MODEL_f18fe7e518ce44079c9bc4ab9e03e588",
      "placeholder": "​",
      "style": "IPY_MODEL_55479728449e400d90dd8e6fcddb97ec",
      "value": "100%"
     }
    },
    "81770da10ebd496bb1563ec8235d5fad": {
     "model_module": "@jupyter-widgets/controls",
     "model_module_version": "1.5.0",
     "model_name": "HBoxModel",
     "state": {
      "_dom_classes": [],
      "_model_module": "@jupyter-widgets/controls",
      "_model_module_version": "1.5.0",
      "_model_name": "HBoxModel",
      "_view_count": null,
      "_view_module": "@jupyter-widgets/controls",
      "_view_module_version": "1.5.0",
      "_view_name": "HBoxView",
      "box_style": "",
      "children": [
       "IPY_MODEL_9ce2d475b4a6426ea00e8102bef41d39",
       "IPY_MODEL_0562ee7f31d1432688ec4b8eab6ba5a1",
       "IPY_MODEL_ba373f213402493197c0d8752bef9bba"
      ],
      "layout": "IPY_MODEL_e4c1dcb26f76474cb19cd1f07b1d1aae"
     }
    },
    "836ecbef322b42808ccc5820aefdd5c5": {
     "model_module": "@jupyter-widgets/controls",
     "model_module_version": "1.5.0",
     "model_name": "HTMLModel",
     "state": {
      "_dom_classes": [],
      "_model_module": "@jupyter-widgets/controls",
      "_model_module_version": "1.5.0",
      "_model_name": "HTMLModel",
      "_view_count": null,
      "_view_module": "@jupyter-widgets/controls",
      "_view_module_version": "1.5.0",
      "_view_name": "HTMLView",
      "description": "",
      "description_tooltip": null,
      "layout": "IPY_MODEL_f8c8935a4b554b05b0c32ade0a727eeb",
      "placeholder": "​",
      "style": "IPY_MODEL_00e588b83ba843c19270831d7c609993",
      "value": " 341/341 [00:00&lt;00:00, 1355.75it/s]"
     }
    },
    "88e03201113a49ff932e8e58d83bc086": {
     "model_module": "@jupyter-widgets/controls",
     "model_module_version": "1.5.0",
     "model_name": "HBoxModel",
     "state": {
      "_dom_classes": [],
      "_model_module": "@jupyter-widgets/controls",
      "_model_module_version": "1.5.0",
      "_model_name": "HBoxModel",
      "_view_count": null,
      "_view_module": "@jupyter-widgets/controls",
      "_view_module_version": "1.5.0",
      "_view_name": "HBoxView",
      "box_style": "",
      "children": [
       "IPY_MODEL_b5f0732112b8408b8c71f225183be757",
       "IPY_MODEL_de9a644b67dc42a6936e3a9a6a66a912",
       "IPY_MODEL_836ecbef322b42808ccc5820aefdd5c5"
      ],
      "layout": "IPY_MODEL_0edb4b75d54d485f9d1bac9132fdb754"
     }
    },
    "8a915991a0e744d39ea758747f201fd8": {
     "model_module": "@jupyter-widgets/base",
     "model_module_version": "1.2.0",
     "model_name": "LayoutModel",
     "state": {
      "_model_module": "@jupyter-widgets/base",
      "_model_module_version": "1.2.0",
      "_model_name": "LayoutModel",
      "_view_count": null,
      "_view_module": "@jupyter-widgets/base",
      "_view_module_version": "1.2.0",
      "_view_name": "LayoutView",
      "align_content": null,
      "align_items": null,
      "align_self": null,
      "border": null,
      "bottom": null,
      "display": null,
      "flex": null,
      "flex_flow": null,
      "grid_area": null,
      "grid_auto_columns": null,
      "grid_auto_flow": null,
      "grid_auto_rows": null,
      "grid_column": null,
      "grid_gap": null,
      "grid_row": null,
      "grid_template_areas": null,
      "grid_template_columns": null,
      "grid_template_rows": null,
      "height": null,
      "justify_content": null,
      "justify_items": null,
      "left": null,
      "margin": null,
      "max_height": null,
      "max_width": null,
      "min_height": null,
      "min_width": null,
      "object_fit": null,
      "object_position": null,
      "order": null,
      "overflow": null,
      "overflow_x": null,
      "overflow_y": null,
      "padding": null,
      "right": null,
      "top": null,
      "visibility": null,
      "width": null
     }
    },
    "940984da83594c5e893ae0b529f820e9": {
     "model_module": "@jupyter-widgets/base",
     "model_module_version": "1.2.0",
     "model_name": "LayoutModel",
     "state": {
      "_model_module": "@jupyter-widgets/base",
      "_model_module_version": "1.2.0",
      "_model_name": "LayoutModel",
      "_view_count": null,
      "_view_module": "@jupyter-widgets/base",
      "_view_module_version": "1.2.0",
      "_view_name": "LayoutView",
      "align_content": null,
      "align_items": null,
      "align_self": null,
      "border": null,
      "bottom": null,
      "display": null,
      "flex": null,
      "flex_flow": null,
      "grid_area": null,
      "grid_auto_columns": null,
      "grid_auto_flow": null,
      "grid_auto_rows": null,
      "grid_column": null,
      "grid_gap": null,
      "grid_row": null,
      "grid_template_areas": null,
      "grid_template_columns": null,
      "grid_template_rows": null,
      "height": null,
      "justify_content": null,
      "justify_items": null,
      "left": null,
      "margin": null,
      "max_height": null,
      "max_width": null,
      "min_height": null,
      "min_width": null,
      "object_fit": null,
      "object_position": null,
      "order": null,
      "overflow": null,
      "overflow_x": null,
      "overflow_y": null,
      "padding": null,
      "right": null,
      "top": null,
      "visibility": null,
      "width": null
     }
    },
    "942879766601402fbd812e365752de7f": {
     "model_module": "@jupyter-widgets/controls",
     "model_module_version": "1.5.0",
     "model_name": "HTMLModel",
     "state": {
      "_dom_classes": [],
      "_model_module": "@jupyter-widgets/controls",
      "_model_module_version": "1.5.0",
      "_model_name": "HTMLModel",
      "_view_count": null,
      "_view_module": "@jupyter-widgets/controls",
      "_view_module_version": "1.5.0",
      "_view_name": "HTMLView",
      "description": "",
      "description_tooltip": null,
      "layout": "IPY_MODEL_70df258810264524a8ce98843b4b119b",
      "placeholder": "​",
      "style": "IPY_MODEL_bb68cecc64eb40c3a517729e23e0d5d0",
      "value": " 942/942 [00:36&lt;00:00, 25.98it/s]"
     }
    },
    "95269c35cfde4bbf85fd06a496495241": {
     "model_module": "@jupyter-widgets/base",
     "model_module_version": "1.2.0",
     "model_name": "LayoutModel",
     "state": {
      "_model_module": "@jupyter-widgets/base",
      "_model_module_version": "1.2.0",
      "_model_name": "LayoutModel",
      "_view_count": null,
      "_view_module": "@jupyter-widgets/base",
      "_view_module_version": "1.2.0",
      "_view_name": "LayoutView",
      "align_content": null,
      "align_items": null,
      "align_self": null,
      "border": null,
      "bottom": null,
      "display": null,
      "flex": null,
      "flex_flow": null,
      "grid_area": null,
      "grid_auto_columns": null,
      "grid_auto_flow": null,
      "grid_auto_rows": null,
      "grid_column": null,
      "grid_gap": null,
      "grid_row": null,
      "grid_template_areas": null,
      "grid_template_columns": null,
      "grid_template_rows": null,
      "height": null,
      "justify_content": null,
      "justify_items": null,
      "left": null,
      "margin": null,
      "max_height": null,
      "max_width": null,
      "min_height": null,
      "min_width": null,
      "object_fit": null,
      "object_position": null,
      "order": null,
      "overflow": null,
      "overflow_x": null,
      "overflow_y": null,
      "padding": null,
      "right": null,
      "top": null,
      "visibility": null,
      "width": null
     }
    },
    "96c90f32d51f4334af8b07922ac8e564": {
     "model_module": "@jupyter-widgets/controls",
     "model_module_version": "1.5.0",
     "model_name": "DescriptionStyleModel",
     "state": {
      "_model_module": "@jupyter-widgets/controls",
      "_model_module_version": "1.5.0",
      "_model_name": "DescriptionStyleModel",
      "_view_count": null,
      "_view_module": "@jupyter-widgets/base",
      "_view_module_version": "1.2.0",
      "_view_name": "StyleView",
      "description_width": ""
     }
    },
    "99972b1d6d59468791353a11a75caafa": {
     "model_module": "@jupyter-widgets/controls",
     "model_module_version": "1.5.0",
     "model_name": "HTMLModel",
     "state": {
      "_dom_classes": [],
      "_model_module": "@jupyter-widgets/controls",
      "_model_module_version": "1.5.0",
      "_model_name": "HTMLModel",
      "_view_count": null,
      "_view_module": "@jupyter-widgets/controls",
      "_view_module_version": "1.5.0",
      "_view_name": "HTMLView",
      "description": "",
      "description_tooltip": null,
      "layout": "IPY_MODEL_eedbf84e87164e48a9521af1fefef461",
      "placeholder": "​",
      "style": "IPY_MODEL_e95d9e587ba24c30913262bda44d25f2",
      "value": " 0/22 [00:00&lt;?, ?it/s, v_num=28, train_gen_loss=0.679, train_disc_loss=0.714]"
     }
    },
    "9ce2d475b4a6426ea00e8102bef41d39": {
     "model_module": "@jupyter-widgets/controls",
     "model_module_version": "1.5.0",
     "model_name": "HTMLModel",
     "state": {
      "_dom_classes": [],
      "_model_module": "@jupyter-widgets/controls",
      "_model_module_version": "1.5.0",
      "_model_name": "HTMLModel",
      "_view_count": null,
      "_view_module": "@jupyter-widgets/controls",
      "_view_module_version": "1.5.0",
      "_view_name": "HTMLView",
      "description": "",
      "description_tooltip": null,
      "layout": "IPY_MODEL_7ba2e09809d74920a34f2d686990c67d",
      "placeholder": "​",
      "style": "IPY_MODEL_a9bfd098cb884ff6ba14359faf1c2c43",
      "value": "100%"
     }
    },
    "a716cffdf40c496a9c5658ef8c3505d8": {
     "model_module": "@jupyter-widgets/controls",
     "model_module_version": "1.5.0",
     "model_name": "DescriptionStyleModel",
     "state": {
      "_model_module": "@jupyter-widgets/controls",
      "_model_module_version": "1.5.0",
      "_model_name": "DescriptionStyleModel",
      "_view_count": null,
      "_view_module": "@jupyter-widgets/base",
      "_view_module_version": "1.2.0",
      "_view_name": "StyleView",
      "description_width": ""
     }
    },
    "a9bfd098cb884ff6ba14359faf1c2c43": {
     "model_module": "@jupyter-widgets/controls",
     "model_module_version": "1.5.0",
     "model_name": "DescriptionStyleModel",
     "state": {
      "_model_module": "@jupyter-widgets/controls",
      "_model_module_version": "1.5.0",
      "_model_name": "DescriptionStyleModel",
      "_view_count": null,
      "_view_module": "@jupyter-widgets/base",
      "_view_module_version": "1.2.0",
      "_view_name": "StyleView",
      "description_width": ""
     }
    },
    "a9e973bd3a2742178be6e79ee43e75d3": {
     "model_module": "@jupyter-widgets/controls",
     "model_module_version": "1.5.0",
     "model_name": "FloatProgressModel",
     "state": {
      "_dom_classes": [],
      "_model_module": "@jupyter-widgets/controls",
      "_model_module_version": "1.5.0",
      "_model_name": "FloatProgressModel",
      "_view_count": null,
      "_view_module": "@jupyter-widgets/controls",
      "_view_module_version": "1.5.0",
      "_view_name": "ProgressView",
      "bar_style": "success",
      "description": "",
      "description_tooltip": null,
      "layout": "IPY_MODEL_cd133d7308bf496987582a7ec3dac155",
      "max": 341,
      "min": 0,
      "orientation": "horizontal",
      "style": "IPY_MODEL_37e17dfc11014d8d9bab614fd07c67a2",
      "value": 341
     }
    },
    "adfd0caadde74c389a2bb96ac090a6b4": {
     "model_module": "@jupyter-widgets/controls",
     "model_module_version": "1.5.0",
     "model_name": "HTMLModel",
     "state": {
      "_dom_classes": [],
      "_model_module": "@jupyter-widgets/controls",
      "_model_module_version": "1.5.0",
      "_model_name": "HTMLModel",
      "_view_count": null,
      "_view_module": "@jupyter-widgets/controls",
      "_view_module_version": "1.5.0",
      "_view_name": "HTMLView",
      "description": "",
      "description_tooltip": null,
      "layout": "IPY_MODEL_ae472b2ad41f459bae15244f34b86b87",
      "placeholder": "​",
      "style": "IPY_MODEL_411c153a40e44b12a4d818222de9cd70",
      "value": "Epoch 3:   0%"
     }
    },
    "ae472b2ad41f459bae15244f34b86b87": {
     "model_module": "@jupyter-widgets/base",
     "model_module_version": "1.2.0",
     "model_name": "LayoutModel",
     "state": {
      "_model_module": "@jupyter-widgets/base",
      "_model_module_version": "1.2.0",
      "_model_name": "LayoutModel",
      "_view_count": null,
      "_view_module": "@jupyter-widgets/base",
      "_view_module_version": "1.2.0",
      "_view_name": "LayoutView",
      "align_content": null,
      "align_items": null,
      "align_self": null,
      "border": null,
      "bottom": null,
      "display": null,
      "flex": null,
      "flex_flow": null,
      "grid_area": null,
      "grid_auto_columns": null,
      "grid_auto_flow": null,
      "grid_auto_rows": null,
      "grid_column": null,
      "grid_gap": null,
      "grid_row": null,
      "grid_template_areas": null,
      "grid_template_columns": null,
      "grid_template_rows": null,
      "height": null,
      "justify_content": null,
      "justify_items": null,
      "left": null,
      "margin": null,
      "max_height": null,
      "max_width": null,
      "min_height": null,
      "min_width": null,
      "object_fit": null,
      "object_position": null,
      "order": null,
      "overflow": null,
      "overflow_x": null,
      "overflow_y": null,
      "padding": null,
      "right": null,
      "top": null,
      "visibility": null,
      "width": null
     }
    },
    "b37a65535e1e4cd285aade5540d956f6": {
     "model_module": "@jupyter-widgets/base",
     "model_module_version": "1.2.0",
     "model_name": "LayoutModel",
     "state": {
      "_model_module": "@jupyter-widgets/base",
      "_model_module_version": "1.2.0",
      "_model_name": "LayoutModel",
      "_view_count": null,
      "_view_module": "@jupyter-widgets/base",
      "_view_module_version": "1.2.0",
      "_view_name": "LayoutView",
      "align_content": null,
      "align_items": null,
      "align_self": null,
      "border": null,
      "bottom": null,
      "display": null,
      "flex": null,
      "flex_flow": null,
      "grid_area": null,
      "grid_auto_columns": null,
      "grid_auto_flow": null,
      "grid_auto_rows": null,
      "grid_column": null,
      "grid_gap": null,
      "grid_row": null,
      "grid_template_areas": null,
      "grid_template_columns": null,
      "grid_template_rows": null,
      "height": null,
      "justify_content": null,
      "justify_items": null,
      "left": null,
      "margin": null,
      "max_height": null,
      "max_width": null,
      "min_height": null,
      "min_width": null,
      "object_fit": null,
      "object_position": null,
      "order": null,
      "overflow": null,
      "overflow_x": null,
      "overflow_y": null,
      "padding": null,
      "right": null,
      "top": null,
      "visibility": null,
      "width": null
     }
    },
    "b4b63fda006641ebbeed44de9421f3a2": {
     "model_module": "@jupyter-widgets/controls",
     "model_module_version": "1.5.0",
     "model_name": "FloatProgressModel",
     "state": {
      "_dom_classes": [],
      "_model_module": "@jupyter-widgets/controls",
      "_model_module_version": "1.5.0",
      "_model_name": "FloatProgressModel",
      "_view_count": null,
      "_view_module": "@jupyter-widgets/controls",
      "_view_module_version": "1.5.0",
      "_view_name": "ProgressView",
      "bar_style": "success",
      "description": "",
      "description_tooltip": null,
      "layout": "IPY_MODEL_60858d4aed844a6b81ef3c9e1cb3b0f0",
      "max": 9,
      "min": 0,
      "orientation": "horizontal",
      "style": "IPY_MODEL_1dd50d59728b4eba9d401fe95f2c92ee",
      "value": 9
     }
    },
    "b5f0732112b8408b8c71f225183be757": {
     "model_module": "@jupyter-widgets/controls",
     "model_module_version": "1.5.0",
     "model_name": "HTMLModel",
     "state": {
      "_dom_classes": [],
      "_model_module": "@jupyter-widgets/controls",
      "_model_module_version": "1.5.0",
      "_model_name": "HTMLModel",
      "_view_count": null,
      "_view_module": "@jupyter-widgets/controls",
      "_view_module_version": "1.5.0",
      "_view_name": "HTMLView",
      "description": "",
      "description_tooltip": null,
      "layout": "IPY_MODEL_fccffd59805f4eb092eab76d7aa26e3f",
      "placeholder": "​",
      "style": "IPY_MODEL_32eff2ca979840b5b4e96cb2949b2b01",
      "value": "100%"
     }
    },
    "ba373f213402493197c0d8752bef9bba": {
     "model_module": "@jupyter-widgets/controls",
     "model_module_version": "1.5.0",
     "model_name": "HTMLModel",
     "state": {
      "_dom_classes": [],
      "_model_module": "@jupyter-widgets/controls",
      "_model_module_version": "1.5.0",
      "_model_name": "HTMLModel",
      "_view_count": null,
      "_view_module": "@jupyter-widgets/controls",
      "_view_module_version": "1.5.0",
      "_view_name": "HTMLView",
      "description": "",
      "description_tooltip": null,
      "layout": "IPY_MODEL_4ba48bc459b14031ab9e49e653cdcef5",
      "placeholder": "​",
      "style": "IPY_MODEL_e155075205214f0eb4cf2d428432eccc",
      "value": " 9/9 [00:13&lt;00:00,  1.48s/it]"
     }
    },
    "bb68cecc64eb40c3a517729e23e0d5d0": {
     "model_module": "@jupyter-widgets/controls",
     "model_module_version": "1.5.0",
     "model_name": "DescriptionStyleModel",
     "state": {
      "_model_module": "@jupyter-widgets/controls",
      "_model_module_version": "1.5.0",
      "_model_name": "DescriptionStyleModel",
      "_view_count": null,
      "_view_module": "@jupyter-widgets/base",
      "_view_module_version": "1.2.0",
      "_view_name": "StyleView",
      "description_width": ""
     }
    },
    "bb810db36bd048afa1c808ed6a7803ea": {
     "model_module": "@jupyter-widgets/controls",
     "model_module_version": "1.5.0",
     "model_name": "HBoxModel",
     "state": {
      "_dom_classes": [],
      "_model_module": "@jupyter-widgets/controls",
      "_model_module_version": "1.5.0",
      "_model_name": "HBoxModel",
      "_view_count": null,
      "_view_module": "@jupyter-widgets/controls",
      "_view_module_version": "1.5.0",
      "_view_name": "HBoxView",
      "box_style": "",
      "children": [
       "IPY_MODEL_fe76f0729f794f48b526e9b65d463cb6",
       "IPY_MODEL_b4b63fda006641ebbeed44de9421f3a2",
       "IPY_MODEL_5644c698673342a8a873aa9ea7c90f60"
      ],
      "layout": "IPY_MODEL_d6e57eff72d54fc3814a45da65665cae"
     }
    },
    "c1591db29dd946fc8d118ec71c58daa9": {
     "model_module": "@jupyter-widgets/controls",
     "model_module_version": "1.5.0",
     "model_name": "FloatProgressModel",
     "state": {
      "_dom_classes": [],
      "_model_module": "@jupyter-widgets/controls",
      "_model_module_version": "1.5.0",
      "_model_name": "FloatProgressModel",
      "_view_count": null,
      "_view_module": "@jupyter-widgets/controls",
      "_view_module_version": "1.5.0",
      "_view_name": "ProgressView",
      "bar_style": "",
      "description": "",
      "description_tooltip": null,
      "layout": "IPY_MODEL_119603c06c0045f98c2a3c1f4e8a93ed",
      "max": 22,
      "min": 0,
      "orientation": "horizontal",
      "style": "IPY_MODEL_0890527119ab410dae0cef25f362e726",
      "value": 0
     }
    },
    "c2bc811c991c46eaa43344a3d761d355": {
     "model_module": "@jupyter-widgets/controls",
     "model_module_version": "1.5.0",
     "model_name": "ProgressStyleModel",
     "state": {
      "_model_module": "@jupyter-widgets/controls",
      "_model_module_version": "1.5.0",
      "_model_name": "ProgressStyleModel",
      "_view_count": null,
      "_view_module": "@jupyter-widgets/base",
      "_view_module_version": "1.2.0",
      "_view_name": "StyleView",
      "bar_color": null,
      "description_width": ""
     }
    },
    "c2d208980ca5493c90a2bb0913e474e1": {
     "model_module": "@jupyter-widgets/controls",
     "model_module_version": "1.5.0",
     "model_name": "FloatProgressModel",
     "state": {
      "_dom_classes": [],
      "_model_module": "@jupyter-widgets/controls",
      "_model_module_version": "1.5.0",
      "_model_name": "FloatProgressModel",
      "_view_count": null,
      "_view_module": "@jupyter-widgets/controls",
      "_view_module_version": "1.5.0",
      "_view_name": "ProgressView",
      "bar_style": "success",
      "description": "",
      "description_tooltip": null,
      "layout": "IPY_MODEL_eb9f0d9223824a30a4f7daac45ca478e",
      "max": 341,
      "min": 0,
      "orientation": "horizontal",
      "style": "IPY_MODEL_c2bc811c991c46eaa43344a3d761d355",
      "value": 341
     }
    },
    "c42b9e3667d84d9aa31086c5e18dbea5": {
     "model_module": "@jupyter-widgets/controls",
     "model_module_version": "1.5.0",
     "model_name": "ProgressStyleModel",
     "state": {
      "_model_module": "@jupyter-widgets/controls",
      "_model_module_version": "1.5.0",
      "_model_name": "ProgressStyleModel",
      "_view_count": null,
      "_view_module": "@jupyter-widgets/base",
      "_view_module_version": "1.2.0",
      "_view_name": "StyleView",
      "bar_color": null,
      "description_width": ""
     }
    },
    "cd133d7308bf496987582a7ec3dac155": {
     "model_module": "@jupyter-widgets/base",
     "model_module_version": "1.2.0",
     "model_name": "LayoutModel",
     "state": {
      "_model_module": "@jupyter-widgets/base",
      "_model_module_version": "1.2.0",
      "_model_name": "LayoutModel",
      "_view_count": null,
      "_view_module": "@jupyter-widgets/base",
      "_view_module_version": "1.2.0",
      "_view_name": "LayoutView",
      "align_content": null,
      "align_items": null,
      "align_self": null,
      "border": null,
      "bottom": null,
      "display": null,
      "flex": null,
      "flex_flow": null,
      "grid_area": null,
      "grid_auto_columns": null,
      "grid_auto_flow": null,
      "grid_auto_rows": null,
      "grid_column": null,
      "grid_gap": null,
      "grid_row": null,
      "grid_template_areas": null,
      "grid_template_columns": null,
      "grid_template_rows": null,
      "height": null,
      "justify_content": null,
      "justify_items": null,
      "left": null,
      "margin": null,
      "max_height": null,
      "max_width": null,
      "min_height": null,
      "min_width": null,
      "object_fit": null,
      "object_position": null,
      "order": null,
      "overflow": null,
      "overflow_x": null,
      "overflow_y": null,
      "padding": null,
      "right": null,
      "top": null,
      "visibility": null,
      "width": null
     }
    },
    "cd5688180a8d497a81e07fa3174e2e37": {
     "model_module": "@jupyter-widgets/controls",
     "model_module_version": "1.5.0",
     "model_name": "HTMLModel",
     "state": {
      "_dom_classes": [],
      "_model_module": "@jupyter-widgets/controls",
      "_model_module_version": "1.5.0",
      "_model_name": "HTMLModel",
      "_view_count": null,
      "_view_module": "@jupyter-widgets/controls",
      "_view_module_version": "1.5.0",
      "_view_name": "HTMLView",
      "description": "",
      "description_tooltip": null,
      "layout": "IPY_MODEL_e32c81dda14943a9b294927404978f79",
      "placeholder": "​",
      "style": "IPY_MODEL_11349d25ce7943beb370782b21add144",
      "value": " 341/341 [00:13&lt;00:00, 26.91it/s]"
     }
    },
    "d6e57eff72d54fc3814a45da65665cae": {
     "model_module": "@jupyter-widgets/base",
     "model_module_version": "1.2.0",
     "model_name": "LayoutModel",
     "state": {
      "_model_module": "@jupyter-widgets/base",
      "_model_module_version": "1.2.0",
      "_model_name": "LayoutModel",
      "_view_count": null,
      "_view_module": "@jupyter-widgets/base",
      "_view_module_version": "1.2.0",
      "_view_name": "LayoutView",
      "align_content": null,
      "align_items": null,
      "align_self": null,
      "border": null,
      "bottom": null,
      "display": null,
      "flex": null,
      "flex_flow": null,
      "grid_area": null,
      "grid_auto_columns": null,
      "grid_auto_flow": null,
      "grid_auto_rows": null,
      "grid_column": null,
      "grid_gap": null,
      "grid_row": null,
      "grid_template_areas": null,
      "grid_template_columns": null,
      "grid_template_rows": null,
      "height": null,
      "justify_content": null,
      "justify_items": null,
      "left": null,
      "margin": null,
      "max_height": null,
      "max_width": null,
      "min_height": null,
      "min_width": null,
      "object_fit": null,
      "object_position": null,
      "order": null,
      "overflow": null,
      "overflow_x": null,
      "overflow_y": null,
      "padding": null,
      "right": null,
      "top": null,
      "visibility": null,
      "width": null
     }
    },
    "d9097239e4e34ac3b0403a829583031f": {
     "model_module": "@jupyter-widgets/controls",
     "model_module_version": "1.5.0",
     "model_name": "HBoxModel",
     "state": {
      "_dom_classes": [],
      "_model_module": "@jupyter-widgets/controls",
      "_model_module_version": "1.5.0",
      "_model_name": "HBoxModel",
      "_view_count": null,
      "_view_module": "@jupyter-widgets/controls",
      "_view_module_version": "1.5.0",
      "_view_name": "HBoxView",
      "box_style": "",
      "children": [
       "IPY_MODEL_7d66cd3761e74f1ab42bdf4ed385396b",
       "IPY_MODEL_fc4060f642cc48e3983ef8e0e81f245e",
       "IPY_MODEL_942879766601402fbd812e365752de7f"
      ],
      "layout": "IPY_MODEL_b37a65535e1e4cd285aade5540d956f6"
     }
    },
    "da039a6900b24be38d7b8efd11a4a63b": {
     "model_module": "@jupyter-widgets/controls",
     "model_module_version": "1.5.0",
     "model_name": "HTMLModel",
     "state": {
      "_dom_classes": [],
      "_model_module": "@jupyter-widgets/controls",
      "_model_module_version": "1.5.0",
      "_model_name": "HTMLModel",
      "_view_count": null,
      "_view_module": "@jupyter-widgets/controls",
      "_view_module_version": "1.5.0",
      "_view_name": "HTMLView",
      "description": "",
      "description_tooltip": null,
      "layout": "IPY_MODEL_4f60197b70f74f309d6989ead6482938",
      "placeholder": "​",
      "style": "IPY_MODEL_2fbcbd5afa2442699b1fc18912ff22d3",
      "value": " 341/341 [00:13&lt;00:00, 26.73it/s]"
     }
    },
    "dd9c948d944945a4984f5cad0eea3e13": {
     "model_module": "@jupyter-widgets/base",
     "model_module_version": "1.2.0",
     "model_name": "LayoutModel",
     "state": {
      "_model_module": "@jupyter-widgets/base",
      "_model_module_version": "1.2.0",
      "_model_name": "LayoutModel",
      "_view_count": null,
      "_view_module": "@jupyter-widgets/base",
      "_view_module_version": "1.2.0",
      "_view_name": "LayoutView",
      "align_content": null,
      "align_items": null,
      "align_self": null,
      "border": null,
      "bottom": null,
      "display": null,
      "flex": null,
      "flex_flow": null,
      "grid_area": null,
      "grid_auto_columns": null,
      "grid_auto_flow": null,
      "grid_auto_rows": null,
      "grid_column": null,
      "grid_gap": null,
      "grid_row": null,
      "grid_template_areas": null,
      "grid_template_columns": null,
      "grid_template_rows": null,
      "height": null,
      "justify_content": null,
      "justify_items": null,
      "left": null,
      "margin": null,
      "max_height": null,
      "max_width": null,
      "min_height": null,
      "min_width": null,
      "object_fit": null,
      "object_position": null,
      "order": null,
      "overflow": null,
      "overflow_x": null,
      "overflow_y": null,
      "padding": null,
      "right": null,
      "top": null,
      "visibility": null,
      "width": null
     }
    },
    "de9a644b67dc42a6936e3a9a6a66a912": {
     "model_module": "@jupyter-widgets/controls",
     "model_module_version": "1.5.0",
     "model_name": "FloatProgressModel",
     "state": {
      "_dom_classes": [],
      "_model_module": "@jupyter-widgets/controls",
      "_model_module_version": "1.5.0",
      "_model_name": "FloatProgressModel",
      "_view_count": null,
      "_view_module": "@jupyter-widgets/controls",
      "_view_module_version": "1.5.0",
      "_view_name": "ProgressView",
      "bar_style": "success",
      "description": "",
      "description_tooltip": null,
      "layout": "IPY_MODEL_95269c35cfde4bbf85fd06a496495241",
      "max": 341,
      "min": 0,
      "orientation": "horizontal",
      "style": "IPY_MODEL_263b1ca58a974360a3c476ed01ecfe06",
      "value": 341
     }
    },
    "e155075205214f0eb4cf2d428432eccc": {
     "model_module": "@jupyter-widgets/controls",
     "model_module_version": "1.5.0",
     "model_name": "DescriptionStyleModel",
     "state": {
      "_model_module": "@jupyter-widgets/controls",
      "_model_module_version": "1.5.0",
      "_model_name": "DescriptionStyleModel",
      "_view_count": null,
      "_view_module": "@jupyter-widgets/base",
      "_view_module_version": "1.2.0",
      "_view_name": "StyleView",
      "description_width": ""
     }
    },
    "e32c81dda14943a9b294927404978f79": {
     "model_module": "@jupyter-widgets/base",
     "model_module_version": "1.2.0",
     "model_name": "LayoutModel",
     "state": {
      "_model_module": "@jupyter-widgets/base",
      "_model_module_version": "1.2.0",
      "_model_name": "LayoutModel",
      "_view_count": null,
      "_view_module": "@jupyter-widgets/base",
      "_view_module_version": "1.2.0",
      "_view_name": "LayoutView",
      "align_content": null,
      "align_items": null,
      "align_self": null,
      "border": null,
      "bottom": null,
      "display": null,
      "flex": null,
      "flex_flow": null,
      "grid_area": null,
      "grid_auto_columns": null,
      "grid_auto_flow": null,
      "grid_auto_rows": null,
      "grid_column": null,
      "grid_gap": null,
      "grid_row": null,
      "grid_template_areas": null,
      "grid_template_columns": null,
      "grid_template_rows": null,
      "height": null,
      "justify_content": null,
      "justify_items": null,
      "left": null,
      "margin": null,
      "max_height": null,
      "max_width": null,
      "min_height": null,
      "min_width": null,
      "object_fit": null,
      "object_position": null,
      "order": null,
      "overflow": null,
      "overflow_x": null,
      "overflow_y": null,
      "padding": null,
      "right": null,
      "top": null,
      "visibility": null,
      "width": null
     }
    },
    "e4c1dcb26f76474cb19cd1f07b1d1aae": {
     "model_module": "@jupyter-widgets/base",
     "model_module_version": "1.2.0",
     "model_name": "LayoutModel",
     "state": {
      "_model_module": "@jupyter-widgets/base",
      "_model_module_version": "1.2.0",
      "_model_name": "LayoutModel",
      "_view_count": null,
      "_view_module": "@jupyter-widgets/base",
      "_view_module_version": "1.2.0",
      "_view_name": "LayoutView",
      "align_content": null,
      "align_items": null,
      "align_self": null,
      "border": null,
      "bottom": null,
      "display": null,
      "flex": null,
      "flex_flow": null,
      "grid_area": null,
      "grid_auto_columns": null,
      "grid_auto_flow": null,
      "grid_auto_rows": null,
      "grid_column": null,
      "grid_gap": null,
      "grid_row": null,
      "grid_template_areas": null,
      "grid_template_columns": null,
      "grid_template_rows": null,
      "height": null,
      "justify_content": null,
      "justify_items": null,
      "left": null,
      "margin": null,
      "max_height": null,
      "max_width": null,
      "min_height": null,
      "min_width": null,
      "object_fit": null,
      "object_position": null,
      "order": null,
      "overflow": null,
      "overflow_x": null,
      "overflow_y": null,
      "padding": null,
      "right": null,
      "top": null,
      "visibility": null,
      "width": null
     }
    },
    "e6a0a48a25f14495869ee03658ed45ca": {
     "model_module": "@jupyter-widgets/base",
     "model_module_version": "1.2.0",
     "model_name": "LayoutModel",
     "state": {
      "_model_module": "@jupyter-widgets/base",
      "_model_module_version": "1.2.0",
      "_model_name": "LayoutModel",
      "_view_count": null,
      "_view_module": "@jupyter-widgets/base",
      "_view_module_version": "1.2.0",
      "_view_name": "LayoutView",
      "align_content": null,
      "align_items": null,
      "align_self": null,
      "border": null,
      "bottom": null,
      "display": "inline-flex",
      "flex": null,
      "flex_flow": "row wrap",
      "grid_area": null,
      "grid_auto_columns": null,
      "grid_auto_flow": null,
      "grid_auto_rows": null,
      "grid_column": null,
      "grid_gap": null,
      "grid_row": null,
      "grid_template_areas": null,
      "grid_template_columns": null,
      "grid_template_rows": null,
      "height": null,
      "justify_content": null,
      "justify_items": null,
      "left": null,
      "margin": null,
      "max_height": null,
      "max_width": null,
      "min_height": null,
      "min_width": null,
      "object_fit": null,
      "object_position": null,
      "order": null,
      "overflow": null,
      "overflow_x": null,
      "overflow_y": null,
      "padding": null,
      "right": null,
      "top": null,
      "visibility": null,
      "width": "100%"
     }
    },
    "e75034c6875d4f3fae51b38cbffc4616": {
     "model_module": "@jupyter-widgets/controls",
     "model_module_version": "1.5.0",
     "model_name": "ProgressStyleModel",
     "state": {
      "_model_module": "@jupyter-widgets/controls",
      "_model_module_version": "1.5.0",
      "_model_name": "ProgressStyleModel",
      "_view_count": null,
      "_view_module": "@jupyter-widgets/base",
      "_view_module_version": "1.2.0",
      "_view_name": "StyleView",
      "bar_color": null,
      "description_width": ""
     }
    },
    "e95d9e587ba24c30913262bda44d25f2": {
     "model_module": "@jupyter-widgets/controls",
     "model_module_version": "1.5.0",
     "model_name": "DescriptionStyleModel",
     "state": {
      "_model_module": "@jupyter-widgets/controls",
      "_model_module_version": "1.5.0",
      "_model_name": "DescriptionStyleModel",
      "_view_count": null,
      "_view_module": "@jupyter-widgets/base",
      "_view_module_version": "1.2.0",
      "_view_name": "StyleView",
      "description_width": ""
     }
    },
    "ea811acb5cee47db9f7529840afce9e1": {
     "model_module": "@jupyter-widgets/controls",
     "model_module_version": "1.5.0",
     "model_name": "FloatProgressModel",
     "state": {
      "_dom_classes": [],
      "_model_module": "@jupyter-widgets/controls",
      "_model_module_version": "1.5.0",
      "_model_name": "FloatProgressModel",
      "_view_count": null,
      "_view_module": "@jupyter-widgets/controls",
      "_view_module_version": "1.5.0",
      "_view_name": "ProgressView",
      "bar_style": "success",
      "description": "",
      "description_tooltip": null,
      "layout": "IPY_MODEL_65a8f13cfcd84b139865e5a8dbad0618",
      "max": 341,
      "min": 0,
      "orientation": "horizontal",
      "style": "IPY_MODEL_c42b9e3667d84d9aa31086c5e18dbea5",
      "value": 341
     }
    },
    "eb9f0d9223824a30a4f7daac45ca478e": {
     "model_module": "@jupyter-widgets/base",
     "model_module_version": "1.2.0",
     "model_name": "LayoutModel",
     "state": {
      "_model_module": "@jupyter-widgets/base",
      "_model_module_version": "1.2.0",
      "_model_name": "LayoutModel",
      "_view_count": null,
      "_view_module": "@jupyter-widgets/base",
      "_view_module_version": "1.2.0",
      "_view_name": "LayoutView",
      "align_content": null,
      "align_items": null,
      "align_self": null,
      "border": null,
      "bottom": null,
      "display": null,
      "flex": null,
      "flex_flow": null,
      "grid_area": null,
      "grid_auto_columns": null,
      "grid_auto_flow": null,
      "grid_auto_rows": null,
      "grid_column": null,
      "grid_gap": null,
      "grid_row": null,
      "grid_template_areas": null,
      "grid_template_columns": null,
      "grid_template_rows": null,
      "height": null,
      "justify_content": null,
      "justify_items": null,
      "left": null,
      "margin": null,
      "max_height": null,
      "max_width": null,
      "min_height": null,
      "min_width": null,
      "object_fit": null,
      "object_position": null,
      "order": null,
      "overflow": null,
      "overflow_x": null,
      "overflow_y": null,
      "padding": null,
      "right": null,
      "top": null,
      "visibility": null,
      "width": null
     }
    },
    "eedbf84e87164e48a9521af1fefef461": {
     "model_module": "@jupyter-widgets/base",
     "model_module_version": "1.2.0",
     "model_name": "LayoutModel",
     "state": {
      "_model_module": "@jupyter-widgets/base",
      "_model_module_version": "1.2.0",
      "_model_name": "LayoutModel",
      "_view_count": null,
      "_view_module": "@jupyter-widgets/base",
      "_view_module_version": "1.2.0",
      "_view_name": "LayoutView",
      "align_content": null,
      "align_items": null,
      "align_self": null,
      "border": null,
      "bottom": null,
      "display": null,
      "flex": null,
      "flex_flow": null,
      "grid_area": null,
      "grid_auto_columns": null,
      "grid_auto_flow": null,
      "grid_auto_rows": null,
      "grid_column": null,
      "grid_gap": null,
      "grid_row": null,
      "grid_template_areas": null,
      "grid_template_columns": null,
      "grid_template_rows": null,
      "height": null,
      "justify_content": null,
      "justify_items": null,
      "left": null,
      "margin": null,
      "max_height": null,
      "max_width": null,
      "min_height": null,
      "min_width": null,
      "object_fit": null,
      "object_position": null,
      "order": null,
      "overflow": null,
      "overflow_x": null,
      "overflow_y": null,
      "padding": null,
      "right": null,
      "top": null,
      "visibility": null,
      "width": null
     }
    },
    "f164c63533fc4b2ea8353c57f99b5b7f": {
     "model_module": "@jupyter-widgets/controls",
     "model_module_version": "1.5.0",
     "model_name": "HBoxModel",
     "state": {
      "_dom_classes": [],
      "_model_module": "@jupyter-widgets/controls",
      "_model_module_version": "1.5.0",
      "_model_name": "HBoxModel",
      "_view_count": null,
      "_view_module": "@jupyter-widgets/controls",
      "_view_module_version": "1.5.0",
      "_view_name": "HBoxView",
      "box_style": "",
      "children": [
       "IPY_MODEL_74aa039833cc4fe6b61ead1b2badb2c8",
       "IPY_MODEL_ea811acb5cee47db9f7529840afce9e1",
       "IPY_MODEL_76bcfa671b4145c6a95703ac9f577771"
      ],
      "layout": "IPY_MODEL_8a915991a0e744d39ea758747f201fd8"
     }
    },
    "f18fe7e518ce44079c9bc4ab9e03e588": {
     "model_module": "@jupyter-widgets/base",
     "model_module_version": "1.2.0",
     "model_name": "LayoutModel",
     "state": {
      "_model_module": "@jupyter-widgets/base",
      "_model_module_version": "1.2.0",
      "_model_name": "LayoutModel",
      "_view_count": null,
      "_view_module": "@jupyter-widgets/base",
      "_view_module_version": "1.2.0",
      "_view_name": "LayoutView",
      "align_content": null,
      "align_items": null,
      "align_self": null,
      "border": null,
      "bottom": null,
      "display": null,
      "flex": null,
      "flex_flow": null,
      "grid_area": null,
      "grid_auto_columns": null,
      "grid_auto_flow": null,
      "grid_auto_rows": null,
      "grid_column": null,
      "grid_gap": null,
      "grid_row": null,
      "grid_template_areas": null,
      "grid_template_columns": null,
      "grid_template_rows": null,
      "height": null,
      "justify_content": null,
      "justify_items": null,
      "left": null,
      "margin": null,
      "max_height": null,
      "max_width": null,
      "min_height": null,
      "min_width": null,
      "object_fit": null,
      "object_position": null,
      "order": null,
      "overflow": null,
      "overflow_x": null,
      "overflow_y": null,
      "padding": null,
      "right": null,
      "top": null,
      "visibility": null,
      "width": null
     }
    },
    "f8260020a824474fa3571b805b9c25cb": {
     "model_module": "@jupyter-widgets/base",
     "model_module_version": "1.2.0",
     "model_name": "LayoutModel",
     "state": {
      "_model_module": "@jupyter-widgets/base",
      "_model_module_version": "1.2.0",
      "_model_name": "LayoutModel",
      "_view_count": null,
      "_view_module": "@jupyter-widgets/base",
      "_view_module_version": "1.2.0",
      "_view_name": "LayoutView",
      "align_content": null,
      "align_items": null,
      "align_self": null,
      "border": null,
      "bottom": null,
      "display": null,
      "flex": null,
      "flex_flow": null,
      "grid_area": null,
      "grid_auto_columns": null,
      "grid_auto_flow": null,
      "grid_auto_rows": null,
      "grid_column": null,
      "grid_gap": null,
      "grid_row": null,
      "grid_template_areas": null,
      "grid_template_columns": null,
      "grid_template_rows": null,
      "height": null,
      "justify_content": null,
      "justify_items": null,
      "left": null,
      "margin": null,
      "max_height": null,
      "max_width": null,
      "min_height": null,
      "min_width": null,
      "object_fit": null,
      "object_position": null,
      "order": null,
      "overflow": null,
      "overflow_x": null,
      "overflow_y": null,
      "padding": null,
      "right": null,
      "top": null,
      "visibility": null,
      "width": null
     }
    },
    "f8c8935a4b554b05b0c32ade0a727eeb": {
     "model_module": "@jupyter-widgets/base",
     "model_module_version": "1.2.0",
     "model_name": "LayoutModel",
     "state": {
      "_model_module": "@jupyter-widgets/base",
      "_model_module_version": "1.2.0",
      "_model_name": "LayoutModel",
      "_view_count": null,
      "_view_module": "@jupyter-widgets/base",
      "_view_module_version": "1.2.0",
      "_view_name": "LayoutView",
      "align_content": null,
      "align_items": null,
      "align_self": null,
      "border": null,
      "bottom": null,
      "display": null,
      "flex": null,
      "flex_flow": null,
      "grid_area": null,
      "grid_auto_columns": null,
      "grid_auto_flow": null,
      "grid_auto_rows": null,
      "grid_column": null,
      "grid_gap": null,
      "grid_row": null,
      "grid_template_areas": null,
      "grid_template_columns": null,
      "grid_template_rows": null,
      "height": null,
      "justify_content": null,
      "justify_items": null,
      "left": null,
      "margin": null,
      "max_height": null,
      "max_width": null,
      "min_height": null,
      "min_width": null,
      "object_fit": null,
      "object_position": null,
      "order": null,
      "overflow": null,
      "overflow_x": null,
      "overflow_y": null,
      "padding": null,
      "right": null,
      "top": null,
      "visibility": null,
      "width": null
     }
    },
    "fb322620f42c4015ab1f9c4cdb737f92": {
     "model_module": "@jupyter-widgets/base",
     "model_module_version": "1.2.0",
     "model_name": "LayoutModel",
     "state": {
      "_model_module": "@jupyter-widgets/base",
      "_model_module_version": "1.2.0",
      "_model_name": "LayoutModel",
      "_view_count": null,
      "_view_module": "@jupyter-widgets/base",
      "_view_module_version": "1.2.0",
      "_view_name": "LayoutView",
      "align_content": null,
      "align_items": null,
      "align_self": null,
      "border": null,
      "bottom": null,
      "display": null,
      "flex": null,
      "flex_flow": null,
      "grid_area": null,
      "grid_auto_columns": null,
      "grid_auto_flow": null,
      "grid_auto_rows": null,
      "grid_column": null,
      "grid_gap": null,
      "grid_row": null,
      "grid_template_areas": null,
      "grid_template_columns": null,
      "grid_template_rows": null,
      "height": null,
      "justify_content": null,
      "justify_items": null,
      "left": null,
      "margin": null,
      "max_height": null,
      "max_width": null,
      "min_height": null,
      "min_width": null,
      "object_fit": null,
      "object_position": null,
      "order": null,
      "overflow": null,
      "overflow_x": null,
      "overflow_y": null,
      "padding": null,
      "right": null,
      "top": null,
      "visibility": null,
      "width": null
     }
    },
    "fc4060f642cc48e3983ef8e0e81f245e": {
     "model_module": "@jupyter-widgets/controls",
     "model_module_version": "1.5.0",
     "model_name": "FloatProgressModel",
     "state": {
      "_dom_classes": [],
      "_model_module": "@jupyter-widgets/controls",
      "_model_module_version": "1.5.0",
      "_model_name": "FloatProgressModel",
      "_view_count": null,
      "_view_module": "@jupyter-widgets/controls",
      "_view_module_version": "1.5.0",
      "_view_name": "ProgressView",
      "bar_style": "success",
      "description": "",
      "description_tooltip": null,
      "layout": "IPY_MODEL_499e68f055b441adaa729960cd39634d",
      "max": 942,
      "min": 0,
      "orientation": "horizontal",
      "style": "IPY_MODEL_518660cb88274d84bd51c7ddd57392df",
      "value": 942
     }
    },
    "fccffd59805f4eb092eab76d7aa26e3f": {
     "model_module": "@jupyter-widgets/base",
     "model_module_version": "1.2.0",
     "model_name": "LayoutModel",
     "state": {
      "_model_module": "@jupyter-widgets/base",
      "_model_module_version": "1.2.0",
      "_model_name": "LayoutModel",
      "_view_count": null,
      "_view_module": "@jupyter-widgets/base",
      "_view_module_version": "1.2.0",
      "_view_name": "LayoutView",
      "align_content": null,
      "align_items": null,
      "align_self": null,
      "border": null,
      "bottom": null,
      "display": null,
      "flex": null,
      "flex_flow": null,
      "grid_area": null,
      "grid_auto_columns": null,
      "grid_auto_flow": null,
      "grid_auto_rows": null,
      "grid_column": null,
      "grid_gap": null,
      "grid_row": null,
      "grid_template_areas": null,
      "grid_template_columns": null,
      "grid_template_rows": null,
      "height": null,
      "justify_content": null,
      "justify_items": null,
      "left": null,
      "margin": null,
      "max_height": null,
      "max_width": null,
      "min_height": null,
      "min_width": null,
      "object_fit": null,
      "object_position": null,
      "order": null,
      "overflow": null,
      "overflow_x": null,
      "overflow_y": null,
      "padding": null,
      "right": null,
      "top": null,
      "visibility": null,
      "width": null
     }
    },
    "fe76f0729f794f48b526e9b65d463cb6": {
     "model_module": "@jupyter-widgets/controls",
     "model_module_version": "1.5.0",
     "model_name": "HTMLModel",
     "state": {
      "_dom_classes": [],
      "_model_module": "@jupyter-widgets/controls",
      "_model_module_version": "1.5.0",
      "_model_name": "HTMLModel",
      "_view_count": null,
      "_view_module": "@jupyter-widgets/controls",
      "_view_module_version": "1.5.0",
      "_view_name": "HTMLView",
      "description": "",
      "description_tooltip": null,
      "layout": "IPY_MODEL_fb322620f42c4015ab1f9c4cdb737f92",
      "placeholder": "​",
      "style": "IPY_MODEL_7ac244f5e9f64249bc9ace5b7cc08758",
      "value": "100%"
     }
    }
   }
  }
 },
 "nbformat": 4,
 "nbformat_minor": 1
}
